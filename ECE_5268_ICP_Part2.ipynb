{
 "cells": [
  {
   "cell_type": "markdown",
   "metadata": {},
   "source": [
    "# Neural Network Project\n",
    "\n",
    "## Emotion Detection through Speech\n",
    "\n",
    "##  ECE 5268 Theory and Applications of Neural Networks\n",
    "\n",
    "**Background**: *Sentiment analysis* is the process of analyzing digital text to determine if the emotional tone of the message is positive, negative, or neutral. More specifically, sentiment analysis is the use of natural language processing, text analysis, computational linguistics, and biometrics to systematically identify, extract, quantify, and study affective states and subjective information.\n",
    "\n",
    "Often times, it is not *what* is said, but *how* it is said. Text-based models may miss this aspect and as such, it may prove useful to also analyze digital voice signals in the same context.\n",
    "\n",
    "To this end, audio files were analyzed to determine the *mood* of the speaker.\n",
    "\n",
    "**Data**: Audio datasets with around 2000 audio files which were in the wav format from the following websites:\n",
    "\n",
    "1) http://neuron.arts.ryerson.ca/ravdess/?f=3,\n",
    "\n",
    "2) http://kahlan.eps.surrey.ac.uk/savee/Download.html \n",
    "\n"
   ]
  },
  {
   "cell_type": "markdown",
   "metadata": {},
   "source": [
    "### Load `TensorFlow` first!! Apparently, `librosa` screws things up!!"
   ]
  },
  {
   "cell_type": "code",
   "execution_count": 4,
   "metadata": {},
   "outputs": [],
   "source": [
    "#!pip install --upgrade pip\n",
    "#!pip install tensorflow\n",
    "import tensorflow as tf"
   ]
  },
  {
   "cell_type": "code",
   "execution_count": 5,
   "metadata": {},
   "outputs": [],
   "source": [
    "import keras\n",
    "from keras.preprocessing import sequence\n",
    "from keras.models import Sequential\n",
    "from keras.layers import Dense, Embedding\n",
    "from keras.layers import LSTM\n",
    "#from keras.preprocessing.text import Tokenizer\n",
    "#from keras.preprocessing.sequence import pad_sequences\n",
    "from keras.utils import pad_sequences # *** Fix import ***\n",
    "from keras.utils import to_categorical\n",
    "from keras.layers import Input, Flatten, Dropout, Activation\n",
    "from keras.layers import Conv1D, MaxPooling1D, AveragePooling1D\n",
    "from keras.models import Model\n",
    "from keras.callbacks import ModelCheckpoint"
   ]
  },
  {
   "cell_type": "code",
   "execution_count": 6,
   "metadata": {},
   "outputs": [],
   "source": [
    "import os\n",
    "import sys\n",
    "\n",
    "import pandas as pd\n",
    "import glob \n",
    "import numpy as np\n",
    "import scipy.io.wavfile\n",
    "import numpy as np\n",
    "\n",
    "import matplotlib.pyplot as plt\n",
    "from matplotlib.pyplot import specgram"
   ]
  },
  {
   "cell_type": "code",
   "execution_count": 7,
   "metadata": {},
   "outputs": [],
   "source": [
    "from sklearn.metrics import confusion_matrix"
   ]
  },
  {
   "cell_type": "markdown",
   "metadata": {},
   "source": [
    "### Import dataframe (due to `tf` and `librosa` conflict)¶"
   ]
  },
  {
   "cell_type": "code",
   "execution_count": 8,
   "metadata": {},
   "outputs": [],
   "source": [
    "rnewdf = pd.read_pickle('feature')"
   ]
  },
  {
   "cell_type": "markdown",
   "metadata": {},
   "source": [
    "### Split the dataframe into *training* and *testing* dataseets"
   ]
  },
  {
   "cell_type": "code",
   "execution_count": 9,
   "metadata": {},
   "outputs": [],
   "source": [
    "from sklearn.model_selection import train_test_split\n",
    "X_trainFull, X_testFull = train_test_split(rnewdf,test_size = 0.2, random_state = 42)"
   ]
  },
  {
   "cell_type": "code",
   "execution_count": 11,
   "metadata": {},
   "outputs": [
    {
     "name": "stdout",
     "output_type": "stream",
     "text": [
      "(768, 217)\n",
      "(192, 217)\n"
     ]
    }
   ],
   "source": [
    "print(X_trainFull.shape)\n",
    "print(X_testFull.shape)"
   ]
  },
  {
   "cell_type": "markdown",
   "metadata": {},
   "source": [
    "## Remove last column from 'Full' dataframe (which contains labels)"
   ]
  },
  {
   "cell_type": "code",
   "execution_count": 12,
   "metadata": {},
   "outputs": [
    {
     "name": "stdout",
     "output_type": "stream",
     "text": [
      "(768, 216)\n",
      "(192, 216)\n"
     ]
    }
   ],
   "source": [
    "X_train = X_trainFull.iloc[:, :-1]\n",
    "print(X_train.shape)\n",
    "\n",
    "X_test = X_testFull.iloc[:, :-1]\n",
    "print(X_test.shape)"
   ]
  },
  {
   "cell_type": "markdown",
   "metadata": {},
   "source": [
    "## Retain last column from 'Full' dataframe (which contains labels)"
   ]
  },
  {
   "cell_type": "code",
   "execution_count": 13,
   "metadata": {},
   "outputs": [
    {
     "name": "stdout",
     "output_type": "stream",
     "text": [
      "(768, 1)\n",
      "(192, 1)\n"
     ]
    }
   ],
   "source": [
    "y_train = X_trainFull.iloc[:, -1:]\n",
    "print(y_train.shape)\n",
    "\n",
    "y_test = X_testFull.iloc[:, -1:]\n",
    "print(y_test.shape)"
   ]
  },
  {
   "cell_type": "markdown",
   "metadata": {},
   "source": [
    "## *One-hot* encoding for categories"
   ]
  },
  {
   "cell_type": "code",
   "execution_count": 14,
   "metadata": {},
   "outputs": [
    {
     "name": "stderr",
     "output_type": "stream",
     "text": [
      "/Users/alesandrawiecheckivergara/anaconda3/lib/python3.11/site-packages/sklearn/preprocessing/_label.py:114: DataConversionWarning: A column-vector y was passed when a 1d array was expected. Please change the shape of y to (n_samples, ), for example using ravel().\n",
      "  y = column_or_1d(y, warn=True)\n",
      "/Users/alesandrawiecheckivergara/anaconda3/lib/python3.11/site-packages/sklearn/preprocessing/_label.py:114: DataConversionWarning: A column-vector y was passed when a 1d array was expected. Please change the shape of y to (n_samples, ), for example using ravel().\n",
      "  y = column_or_1d(y, warn=True)\n"
     ]
    }
   ],
   "source": [
    "#from keras.utils import np_utils\n",
    "from sklearn.preprocessing import LabelEncoder\n",
    "\n",
    "#X_train = np.array(trainfeatures)\n",
    "#y_train = np.array(trainlabel)\n",
    "#X_test = np.array(testfeatures)\n",
    "#y_test = np.array(testlabel)\n",
    "\n",
    "lb = LabelEncoder()\n",
    "\n",
    "#y_train = np_utils.to_categorical(lb.fit_transform(y_train))\n",
    "#y_test = np_utils.to_categorical(lb.fit_transform(y_test))\n",
    "y_train = keras.utils.to_categorical(lb.fit_transform(y_train))\n",
    "y_test = keras.utils.to_categorical(lb.fit_transform(y_test))\n"
   ]
  },
  {
   "cell_type": "code",
   "execution_count": 15,
   "metadata": {},
   "outputs": [
    {
     "data": {
      "text/plain": [
       "(768, 10)"
      ]
     },
     "execution_count": 15,
     "metadata": {},
     "output_type": "execute_result"
    }
   ],
   "source": [
    "y_train.shape"
   ]
  },
  {
   "cell_type": "code",
   "execution_count": 16,
   "metadata": {},
   "outputs": [
    {
     "data": {
      "text/plain": [
       "(768, 216)"
      ]
     },
     "execution_count": 16,
     "metadata": {},
     "output_type": "execute_result"
    }
   ],
   "source": [
    "X_train.shape"
   ]
  },
  {
   "cell_type": "markdown",
   "metadata": {},
   "source": [
    "## Changing dimension for CNN model"
   ]
  },
  {
   "cell_type": "code",
   "execution_count": 17,
   "metadata": {},
   "outputs": [],
   "source": [
    "x_traincnn = np.expand_dims(X_train, axis=2)\n",
    "x_testcnn  = np.expand_dims(X_test, axis=2)"
   ]
  },
  {
   "cell_type": "code",
   "execution_count": 18,
   "metadata": {},
   "outputs": [
    {
     "name": "stdout",
     "output_type": "stream",
     "text": [
      "(768, 216, 1)\n",
      "(192, 216, 1)\n"
     ]
    }
   ],
   "source": [
    "print(x_traincnn.shape)\n",
    "print(x_testcnn.shape)"
   ]
  },
  {
   "cell_type": "markdown",
   "metadata": {},
   "source": [
    "## Required `imports`"
   ]
  },
  {
   "cell_type": "code",
   "execution_count": 19,
   "metadata": {},
   "outputs": [],
   "source": [
    "import time"
   ]
  },
  {
   "cell_type": "markdown",
   "metadata": {},
   "source": [
    "## Hung-Puthran [baseline] model: See *Emotion Detection through Speech* document"
   ]
  },
  {
   "cell_type": "code",
   "execution_count": 24,
   "metadata": {},
   "outputs": [
    {
     "name": "stderr",
     "output_type": "stream",
     "text": [
      "WARNING:absl:At this time, the v2.11+ optimizer `tf.keras.optimizers.RMSprop` runs slowly on M1/M2 Macs, please use the legacy Keras optimizer instead, located at `tf.keras.optimizers.legacy.RMSprop`.\n"
     ]
    },
    {
     "name": "stdout",
     "output_type": "stream",
     "text": [
      "Model: \"sequential_1\"\n",
      "_________________________________________________________________\n",
      " Layer (type)                Output Shape              Param #   \n",
      "=================================================================\n",
      " conv1d_6 (Conv1D)           (None, 216, 128)          768       \n",
      "                                                                 \n",
      " activation_7 (Activation)   (None, 216, 128)          0         \n",
      "                                                                 \n",
      " conv1d_7 (Conv1D)           (None, 216, 128)          82048     \n",
      "                                                                 \n",
      " activation_8 (Activation)   (None, 216, 128)          0         \n",
      "                                                                 \n",
      " dropout_2 (Dropout)         (None, 216, 128)          0         \n",
      "                                                                 \n",
      " max_pooling1d_1 (MaxPoolin  (None, 27, 128)           0         \n",
      " g1D)                                                            \n",
      "                                                                 \n",
      " conv1d_8 (Conv1D)           (None, 27, 128)           82048     \n",
      "                                                                 \n",
      " activation_9 (Activation)   (None, 27, 128)           0         \n",
      "                                                                 \n",
      " conv1d_9 (Conv1D)           (None, 27, 128)           82048     \n",
      "                                                                 \n",
      " activation_10 (Activation)  (None, 27, 128)           0         \n",
      "                                                                 \n",
      " conv1d_10 (Conv1D)          (None, 27, 128)           82048     \n",
      "                                                                 \n",
      " activation_11 (Activation)  (None, 27, 128)           0         \n",
      "                                                                 \n",
      " dropout_3 (Dropout)         (None, 27, 128)           0         \n",
      "                                                                 \n",
      " conv1d_11 (Conv1D)          (None, 27, 128)           82048     \n",
      "                                                                 \n",
      " activation_12 (Activation)  (None, 27, 128)           0         \n",
      "                                                                 \n",
      " flatten_1 (Flatten)         (None, 3456)              0         \n",
      "                                                                 \n",
      " dense_1 (Dense)             (None, 10)                34570     \n",
      "                                                                 \n",
      " activation_13 (Activation)  (None, 10)                0         \n",
      "                                                                 \n",
      "=================================================================\n",
      "Total params: 445578 (1.70 MB)\n",
      "Trainable params: 445578 (1.70 MB)\n",
      "Non-trainable params: 0 (0.00 Byte)\n",
      "_________________________________________________________________\n"
     ]
    }
   ],
   "source": [
    "model = Sequential()\n",
    "model.add(Conv1D(128, 5,padding='same',input_shape=(216,1)))\n",
    "model.add(Activation('relu'))\n",
    "model.add(Conv1D(128, 5,padding='same'))\n",
    "model.add(Activation('relu'))\n",
    "model.add(Dropout(0.1))\n",
    "model.add(MaxPooling1D(pool_size=(8)))\n",
    "model.add(Conv1D(128, 5,padding='same',))\n",
    "model.add(Activation('relu'))\n",
    "model.add(Conv1D(128, 5,padding='same',))\n",
    "model.add(Activation('relu'))\n",
    "model.add(Conv1D(128, 5,padding='same',))\n",
    "model.add(Activation('relu'))\n",
    "model.add(Dropout(0.2))\n",
    "model.add(Conv1D(128, 5,padding='same',))\n",
    "model.add(Activation('relu'))\n",
    "model.add(Flatten())\n",
    "model.add(Dense(10))\n",
    "model.add(Activation('softmax'))\n",
    "\n",
    "baselineModel = model\n",
    "\n",
    "#from keras import regularizers\n",
    "#opt = keras.optimizers.rmsprop(lr=0.00001, decay=1e-6)               # *** deprecated ***\n",
    "opt = keras.optimizers.RMSprop(learning_rate=0.00001) # took out decay=1e-6\n",
    "baselineModel.compile(loss='categorical_crossentropy', optimizer=opt, metrics=['accuracy'])\n",
    "\n",
    "baselineModel.summary()"
   ]
  },
  {
   "cell_type": "code",
   "execution_count": 25,
   "metadata": {
    "scrolled": true
   },
   "outputs": [
    {
     "name": "stdout",
     "output_type": "stream",
     "text": [
      "Epoch 1/200\n",
      "48/48 [==============================] - 1s 14ms/step - loss: 2.5072 - accuracy: 0.1055 - val_loss: 2.2961 - val_accuracy: 0.1302\n",
      "Epoch 2/200\n",
      "48/48 [==============================] - 1s 12ms/step - loss: 2.3792 - accuracy: 0.0859 - val_loss: 2.2734 - val_accuracy: 0.1562\n",
      "Epoch 3/200\n",
      "48/48 [==============================] - 1s 15ms/step - loss: 2.3432 - accuracy: 0.1094 - val_loss: 2.2627 - val_accuracy: 0.1094\n",
      "Epoch 4/200\n",
      "48/48 [==============================] - 1s 28ms/step - loss: 2.2760 - accuracy: 0.1237 - val_loss: 2.2374 - val_accuracy: 0.1875\n",
      "Epoch 5/200\n",
      "48/48 [==============================] - 4s 86ms/step - loss: 2.2816 - accuracy: 0.1367 - val_loss: 2.2397 - val_accuracy: 0.1302\n",
      "Epoch 6/200\n",
      "48/48 [==============================] - 3s 59ms/step - loss: 2.2486 - accuracy: 0.1667 - val_loss: 2.2154 - val_accuracy: 0.1719\n",
      "Epoch 7/200\n",
      "48/48 [==============================] - 3s 63ms/step - loss: 2.2081 - accuracy: 0.1784 - val_loss: 2.2053 - val_accuracy: 0.1406\n",
      "Epoch 8/200\n",
      "48/48 [==============================] - 4s 80ms/step - loss: 2.2137 - accuracy: 0.1628 - val_loss: 2.1882 - val_accuracy: 0.2552\n",
      "Epoch 9/200\n",
      "48/48 [==============================] - 3s 57ms/step - loss: 2.1986 - accuracy: 0.1771 - val_loss: 2.1871 - val_accuracy: 0.1875\n",
      "Epoch 10/200\n",
      "48/48 [==============================] - 3s 72ms/step - loss: 2.1703 - accuracy: 0.1862 - val_loss: 2.1688 - val_accuracy: 0.1875\n",
      "Epoch 11/200\n",
      "48/48 [==============================] - 2s 51ms/step - loss: 2.1375 - accuracy: 0.2018 - val_loss: 2.1661 - val_accuracy: 0.1771\n",
      "Epoch 12/200\n",
      "48/48 [==============================] - 2s 46ms/step - loss: 2.1245 - accuracy: 0.2083 - val_loss: 2.1425 - val_accuracy: 0.2292\n",
      "Epoch 13/200\n",
      "48/48 [==============================] - 3s 70ms/step - loss: 2.1140 - accuracy: 0.2370 - val_loss: 2.1478 - val_accuracy: 0.1875\n",
      "Epoch 14/200\n",
      "48/48 [==============================] - 3s 60ms/step - loss: 2.0857 - accuracy: 0.2292 - val_loss: 2.1126 - val_accuracy: 0.2188\n",
      "Epoch 15/200\n",
      "48/48 [==============================] - 2s 48ms/step - loss: 2.0867 - accuracy: 0.2083 - val_loss: 2.1034 - val_accuracy: 0.2448\n",
      "Epoch 16/200\n",
      "48/48 [==============================] - 3s 62ms/step - loss: 2.0710 - accuracy: 0.2370 - val_loss: 2.0803 - val_accuracy: 0.2448\n",
      "Epoch 17/200\n",
      "48/48 [==============================] - 3s 59ms/step - loss: 2.0678 - accuracy: 0.2383 - val_loss: 2.0797 - val_accuracy: 0.2292\n",
      "Epoch 18/200\n",
      "48/48 [==============================] - 4s 75ms/step - loss: 2.0403 - accuracy: 0.2539 - val_loss: 2.0595 - val_accuracy: 0.2344\n",
      "Epoch 19/200\n",
      "48/48 [==============================] - 3s 68ms/step - loss: 2.0121 - accuracy: 0.2526 - val_loss: 2.0591 - val_accuracy: 0.2396\n",
      "Epoch 20/200\n",
      "48/48 [==============================] - 3s 67ms/step - loss: 1.9868 - accuracy: 0.2487 - val_loss: 2.0315 - val_accuracy: 0.2552\n",
      "Epoch 21/200\n",
      "48/48 [==============================] - 3s 65ms/step - loss: 1.9869 - accuracy: 0.2604 - val_loss: 2.0271 - val_accuracy: 0.2135\n",
      "Epoch 22/200\n",
      "48/48 [==============================] - 3s 68ms/step - loss: 1.9649 - accuracy: 0.2799 - val_loss: 2.0041 - val_accuracy: 0.2552\n",
      "Epoch 23/200\n",
      "48/48 [==============================] - 3s 62ms/step - loss: 1.9585 - accuracy: 0.2839 - val_loss: 2.0125 - val_accuracy: 0.2188\n",
      "Epoch 24/200\n",
      "48/48 [==============================] - 3s 61ms/step - loss: 1.9232 - accuracy: 0.3047 - val_loss: 2.0017 - val_accuracy: 0.2135\n",
      "Epoch 25/200\n",
      "48/48 [==============================] - 3s 57ms/step - loss: 1.9397 - accuracy: 0.2708 - val_loss: 1.9658 - val_accuracy: 0.2708\n",
      "Epoch 26/200\n",
      "48/48 [==============================] - 3s 57ms/step - loss: 1.9208 - accuracy: 0.2878 - val_loss: 1.9543 - val_accuracy: 0.2604\n",
      "Epoch 27/200\n",
      "48/48 [==============================] - 3s 54ms/step - loss: 1.9104 - accuracy: 0.2852 - val_loss: 1.9465 - val_accuracy: 0.2604\n",
      "Epoch 28/200\n",
      "48/48 [==============================] - 3s 54ms/step - loss: 1.8681 - accuracy: 0.3086 - val_loss: 1.9505 - val_accuracy: 0.2500\n",
      "Epoch 29/200\n",
      "48/48 [==============================] - 3s 57ms/step - loss: 1.8485 - accuracy: 0.3203 - val_loss: 1.9304 - val_accuracy: 0.2604\n",
      "Epoch 30/200\n",
      "48/48 [==============================] - 3s 55ms/step - loss: 1.8542 - accuracy: 0.3216 - val_loss: 1.9251 - val_accuracy: 0.2344\n",
      "Epoch 31/200\n",
      "48/48 [==============================] - 3s 60ms/step - loss: 1.8434 - accuracy: 0.3333 - val_loss: 1.9148 - val_accuracy: 0.2500\n",
      "Epoch 32/200\n",
      "48/48 [==============================] - 3s 60ms/step - loss: 1.8103 - accuracy: 0.3424 - val_loss: 1.9286 - val_accuracy: 0.2656\n",
      "Epoch 33/200\n",
      "48/48 [==============================] - 2s 48ms/step - loss: 1.8303 - accuracy: 0.3008 - val_loss: 1.9005 - val_accuracy: 0.2396\n",
      "Epoch 34/200\n",
      "48/48 [==============================] - 2s 48ms/step - loss: 1.7942 - accuracy: 0.3307 - val_loss: 1.8821 - val_accuracy: 0.3021\n",
      "Epoch 35/200\n",
      "48/48 [==============================] - 2s 48ms/step - loss: 1.7936 - accuracy: 0.3112 - val_loss: 1.8897 - val_accuracy: 0.2604\n",
      "Epoch 36/200\n",
      "48/48 [==============================] - 3s 57ms/step - loss: 1.7802 - accuracy: 0.3620 - val_loss: 1.8684 - val_accuracy: 0.3073\n",
      "Epoch 37/200\n",
      "48/48 [==============================] - 2s 52ms/step - loss: 1.7621 - accuracy: 0.3490 - val_loss: 1.8761 - val_accuracy: 0.2812\n",
      "Epoch 38/200\n",
      "48/48 [==============================] - 2s 51ms/step - loss: 1.7522 - accuracy: 0.3529 - val_loss: 1.8736 - val_accuracy: 0.2760\n",
      "Epoch 39/200\n",
      "48/48 [==============================] - 2s 50ms/step - loss: 1.7510 - accuracy: 0.3503 - val_loss: 1.8461 - val_accuracy: 0.2969\n",
      "Epoch 40/200\n",
      "48/48 [==============================] - 2s 50ms/step - loss: 1.7534 - accuracy: 0.3503 - val_loss: 1.8465 - val_accuracy: 0.2760\n",
      "Epoch 41/200\n",
      "48/48 [==============================] - 2s 51ms/step - loss: 1.7345 - accuracy: 0.3385 - val_loss: 1.8497 - val_accuracy: 0.2760\n",
      "Epoch 42/200\n",
      "48/48 [==============================] - 3s 57ms/step - loss: 1.7297 - accuracy: 0.3190 - val_loss: 1.8259 - val_accuracy: 0.3385\n",
      "Epoch 43/200\n",
      "48/48 [==============================] - 3s 53ms/step - loss: 1.7516 - accuracy: 0.3333 - val_loss: 1.8362 - val_accuracy: 0.2604\n",
      "Epoch 44/200\n",
      "48/48 [==============================] - 3s 53ms/step - loss: 1.7232 - accuracy: 0.3620 - val_loss: 1.8243 - val_accuracy: 0.2969\n",
      "Epoch 45/200\n",
      "48/48 [==============================] - 3s 53ms/step - loss: 1.7021 - accuracy: 0.3607 - val_loss: 1.7945 - val_accuracy: 0.3438\n",
      "Epoch 46/200\n",
      "48/48 [==============================] - 2s 49ms/step - loss: 1.6734 - accuracy: 0.3906 - val_loss: 1.8004 - val_accuracy: 0.3177\n",
      "Epoch 47/200\n",
      "48/48 [==============================] - 3s 59ms/step - loss: 1.6941 - accuracy: 0.3750 - val_loss: 1.7851 - val_accuracy: 0.3385\n",
      "Epoch 48/200\n",
      "48/48 [==============================] - 4s 74ms/step - loss: 1.6599 - accuracy: 0.3880 - val_loss: 1.7867 - val_accuracy: 0.3281\n",
      "Epoch 49/200\n",
      "48/48 [==============================] - 3s 67ms/step - loss: 1.6626 - accuracy: 0.3802 - val_loss: 1.8256 - val_accuracy: 0.2760\n",
      "Epoch 50/200\n",
      "48/48 [==============================] - 2s 50ms/step - loss: 1.6423 - accuracy: 0.3737 - val_loss: 1.8082 - val_accuracy: 0.2760\n",
      "Epoch 51/200\n",
      "48/48 [==============================] - 2s 47ms/step - loss: 1.6317 - accuracy: 0.3880 - val_loss: 1.7654 - val_accuracy: 0.3385\n",
      "Epoch 52/200\n",
      "48/48 [==============================] - 2s 47ms/step - loss: 1.6105 - accuracy: 0.4310 - val_loss: 1.7582 - val_accuracy: 0.3750\n",
      "Epoch 53/200\n",
      "48/48 [==============================] - 2s 49ms/step - loss: 1.6152 - accuracy: 0.4049 - val_loss: 1.7388 - val_accuracy: 0.3490\n",
      "Epoch 54/200\n",
      "48/48 [==============================] - 3s 55ms/step - loss: 1.6429 - accuracy: 0.3997 - val_loss: 1.7987 - val_accuracy: 0.2708\n",
      "Epoch 55/200\n",
      "48/48 [==============================] - 2s 52ms/step - loss: 1.6039 - accuracy: 0.4102 - val_loss: 1.7467 - val_accuracy: 0.3385\n",
      "Epoch 56/200\n",
      "48/48 [==============================] - 2s 51ms/step - loss: 1.6153 - accuracy: 0.3932 - val_loss: 1.7218 - val_accuracy: 0.3854\n",
      "Epoch 57/200\n",
      "48/48 [==============================] - 2s 49ms/step - loss: 1.5954 - accuracy: 0.4128 - val_loss: 1.7347 - val_accuracy: 0.3281\n",
      "Epoch 58/200\n"
     ]
    },
    {
     "name": "stdout",
     "output_type": "stream",
     "text": [
      "48/48 [==============================] - 2s 47ms/step - loss: 1.6003 - accuracy: 0.3971 - val_loss: 1.7394 - val_accuracy: 0.3177\n",
      "Epoch 59/200\n",
      "48/48 [==============================] - 2s 47ms/step - loss: 1.5513 - accuracy: 0.4544 - val_loss: 1.7132 - val_accuracy: 0.3490\n",
      "Epoch 60/200\n",
      "48/48 [==============================] - 2s 47ms/step - loss: 1.5890 - accuracy: 0.4010 - val_loss: 1.7205 - val_accuracy: 0.3385\n",
      "Epoch 61/200\n",
      "48/48 [==============================] - 3s 62ms/step - loss: 1.5588 - accuracy: 0.4336 - val_loss: 1.7066 - val_accuracy: 0.3490\n",
      "Epoch 62/200\n",
      "48/48 [==============================] - 2s 47ms/step - loss: 1.5504 - accuracy: 0.4219 - val_loss: 1.7032 - val_accuracy: 0.3646\n",
      "Epoch 63/200\n",
      "48/48 [==============================] - 2s 47ms/step - loss: 1.5322 - accuracy: 0.4089 - val_loss: 1.6947 - val_accuracy: 0.3542\n",
      "Epoch 64/200\n",
      "48/48 [==============================] - 2s 47ms/step - loss: 1.5535 - accuracy: 0.4232 - val_loss: 1.6775 - val_accuracy: 0.3854\n",
      "Epoch 65/200\n",
      "48/48 [==============================] - 2s 49ms/step - loss: 1.5292 - accuracy: 0.4362 - val_loss: 1.6957 - val_accuracy: 0.3281\n",
      "Epoch 66/200\n",
      "48/48 [==============================] - 2s 48ms/step - loss: 1.5246 - accuracy: 0.4375 - val_loss: 1.6933 - val_accuracy: 0.3698\n",
      "Epoch 67/200\n",
      "48/48 [==============================] - 2s 50ms/step - loss: 1.5088 - accuracy: 0.4232 - val_loss: 1.6734 - val_accuracy: 0.3750\n",
      "Epoch 68/200\n",
      "48/48 [==============================] - 3s 56ms/step - loss: 1.5233 - accuracy: 0.4362 - val_loss: 1.6754 - val_accuracy: 0.3542\n",
      "Epoch 69/200\n",
      "48/48 [==============================] - 3s 54ms/step - loss: 1.5183 - accuracy: 0.4284 - val_loss: 1.6875 - val_accuracy: 0.3385\n",
      "Epoch 70/200\n",
      "48/48 [==============================] - 2s 52ms/step - loss: 1.4984 - accuracy: 0.4258 - val_loss: 1.6395 - val_accuracy: 0.4010\n",
      "Epoch 71/200\n",
      "48/48 [==============================] - 2s 48ms/step - loss: 1.5220 - accuracy: 0.4206 - val_loss: 1.6587 - val_accuracy: 0.3802\n",
      "Epoch 72/200\n",
      "48/48 [==============================] - 2s 51ms/step - loss: 1.4843 - accuracy: 0.4336 - val_loss: 1.6409 - val_accuracy: 0.3906\n",
      "Epoch 73/200\n",
      "48/48 [==============================] - 3s 53ms/step - loss: 1.5069 - accuracy: 0.4284 - val_loss: 1.6427 - val_accuracy: 0.3750\n",
      "Epoch 74/200\n",
      "48/48 [==============================] - 3s 57ms/step - loss: 1.4783 - accuracy: 0.4557 - val_loss: 1.6598 - val_accuracy: 0.3438\n",
      "Epoch 75/200\n",
      "48/48 [==============================] - 2s 51ms/step - loss: 1.4792 - accuracy: 0.4466 - val_loss: 1.6567 - val_accuracy: 0.3594\n",
      "Epoch 76/200\n",
      "48/48 [==============================] - 2s 48ms/step - loss: 1.4461 - accuracy: 0.4518 - val_loss: 1.6520 - val_accuracy: 0.3333\n",
      "Epoch 77/200\n",
      "48/48 [==============================] - 2s 48ms/step - loss: 1.4442 - accuracy: 0.4701 - val_loss: 1.6240 - val_accuracy: 0.3802\n",
      "Epoch 78/200\n",
      "48/48 [==============================] - 2s 49ms/step - loss: 1.4400 - accuracy: 0.4701 - val_loss: 1.6029 - val_accuracy: 0.4375\n",
      "Epoch 79/200\n",
      "48/48 [==============================] - 2s 49ms/step - loss: 1.4441 - accuracy: 0.4505 - val_loss: 1.6162 - val_accuracy: 0.3958\n",
      "Epoch 80/200\n",
      "48/48 [==============================] - 3s 53ms/step - loss: 1.4616 - accuracy: 0.4557 - val_loss: 1.6081 - val_accuracy: 0.4010\n",
      "Epoch 81/200\n",
      "48/48 [==============================] - 3s 56ms/step - loss: 1.4504 - accuracy: 0.4727 - val_loss: 1.6293 - val_accuracy: 0.3646\n",
      "Epoch 82/200\n",
      "48/48 [==============================] - 2s 50ms/step - loss: 1.4400 - accuracy: 0.4674 - val_loss: 1.6501 - val_accuracy: 0.3542\n",
      "Epoch 83/200\n",
      "48/48 [==============================] - 2s 48ms/step - loss: 1.4438 - accuracy: 0.4414 - val_loss: 1.6152 - val_accuracy: 0.3854\n",
      "Epoch 84/200\n",
      "48/48 [==============================] - 2s 47ms/step - loss: 1.4244 - accuracy: 0.4531 - val_loss: 1.6372 - val_accuracy: 0.3542\n",
      "Epoch 85/200\n",
      "48/48 [==============================] - 2s 46ms/step - loss: 1.4117 - accuracy: 0.4635 - val_loss: 1.6968 - val_accuracy: 0.3490\n",
      "Epoch 86/200\n",
      "48/48 [==============================] - 2s 45ms/step - loss: 1.4089 - accuracy: 0.4596 - val_loss: 1.6370 - val_accuracy: 0.3594\n",
      "Epoch 87/200\n",
      "48/48 [==============================] - 2s 49ms/step - loss: 1.4248 - accuracy: 0.4492 - val_loss: 1.6244 - val_accuracy: 0.3594\n",
      "Epoch 88/200\n",
      "48/48 [==============================] - 2s 49ms/step - loss: 1.3982 - accuracy: 0.4805 - val_loss: 1.6413 - val_accuracy: 0.3906\n",
      "Epoch 89/200\n",
      "48/48 [==============================] - 2s 46ms/step - loss: 1.4161 - accuracy: 0.4596 - val_loss: 1.6433 - val_accuracy: 0.3281\n",
      "Epoch 90/200\n",
      "48/48 [==============================] - 2s 46ms/step - loss: 1.3910 - accuracy: 0.4948 - val_loss: 1.5728 - val_accuracy: 0.4219\n",
      "Epoch 91/200\n",
      "48/48 [==============================] - 2s 50ms/step - loss: 1.3912 - accuracy: 0.4896 - val_loss: 1.5839 - val_accuracy: 0.3906\n",
      "Epoch 92/200\n",
      "48/48 [==============================] - 2s 50ms/step - loss: 1.3745 - accuracy: 0.4635 - val_loss: 1.5789 - val_accuracy: 0.4375\n",
      "Epoch 93/200\n",
      "48/48 [==============================] - 2s 46ms/step - loss: 1.4079 - accuracy: 0.4622 - val_loss: 1.5728 - val_accuracy: 0.4062\n",
      "Epoch 94/200\n",
      "48/48 [==============================] - 3s 55ms/step - loss: 1.3988 - accuracy: 0.4635 - val_loss: 1.5823 - val_accuracy: 0.3750\n",
      "Epoch 95/200\n",
      "48/48 [==============================] - 2s 49ms/step - loss: 1.3840 - accuracy: 0.4766 - val_loss: 1.5893 - val_accuracy: 0.3958\n",
      "Epoch 96/200\n",
      "48/48 [==============================] - 3s 56ms/step - loss: 1.3798 - accuracy: 0.5052 - val_loss: 1.5660 - val_accuracy: 0.4062\n",
      "Epoch 97/200\n",
      "48/48 [==============================] - 3s 57ms/step - loss: 1.3797 - accuracy: 0.4766 - val_loss: 1.5629 - val_accuracy: 0.3906\n",
      "Epoch 98/200\n",
      "48/48 [==============================] - 3s 55ms/step - loss: 1.3663 - accuracy: 0.5013 - val_loss: 1.5746 - val_accuracy: 0.3906\n",
      "Epoch 99/200\n",
      "48/48 [==============================] - 3s 53ms/step - loss: 1.3692 - accuracy: 0.4805 - val_loss: 1.6076 - val_accuracy: 0.4010\n",
      "Epoch 100/200\n",
      "48/48 [==============================] - 3s 54ms/step - loss: 1.3781 - accuracy: 0.5065 - val_loss: 1.5465 - val_accuracy: 0.4479\n",
      "Epoch 101/200\n",
      "48/48 [==============================] - 3s 54ms/step - loss: 1.3576 - accuracy: 0.4792 - val_loss: 1.5430 - val_accuracy: 0.4323\n",
      "Epoch 102/200\n",
      "48/48 [==============================] - 2s 45ms/step - loss: 1.3797 - accuracy: 0.4857 - val_loss: 1.5509 - val_accuracy: 0.4219\n",
      "Epoch 103/200\n",
      "48/48 [==============================] - 1s 13ms/step - loss: 1.3463 - accuracy: 0.4883 - val_loss: 1.5483 - val_accuracy: 0.4062\n",
      "Epoch 104/200\n",
      "48/48 [==============================] - 1s 14ms/step - loss: 1.3519 - accuracy: 0.5299 - val_loss: 1.5621 - val_accuracy: 0.4115\n",
      "Epoch 105/200\n",
      "48/48 [==============================] - 1s 14ms/step - loss: 1.3372 - accuracy: 0.4935 - val_loss: 1.5814 - val_accuracy: 0.4115\n",
      "Epoch 106/200\n",
      "48/48 [==============================] - 1s 15ms/step - loss: 1.3293 - accuracy: 0.5065 - val_loss: 1.5359 - val_accuracy: 0.4167\n",
      "Epoch 107/200\n",
      "48/48 [==============================] - 1s 14ms/step - loss: 1.3446 - accuracy: 0.5013 - val_loss: 1.5341 - val_accuracy: 0.4479\n",
      "Epoch 108/200\n",
      "48/48 [==============================] - 1s 15ms/step - loss: 1.3346 - accuracy: 0.4961 - val_loss: 1.6228 - val_accuracy: 0.3854\n",
      "Epoch 109/200\n",
      "48/48 [==============================] - 1s 16ms/step - loss: 1.3229 - accuracy: 0.4974 - val_loss: 1.5713 - val_accuracy: 0.3698\n",
      "Epoch 110/200\n",
      "48/48 [==============================] - 1s 15ms/step - loss: 1.3454 - accuracy: 0.4935 - val_loss: 1.5240 - val_accuracy: 0.4375\n",
      "Epoch 111/200\n",
      "48/48 [==============================] - 1s 15ms/step - loss: 1.3314 - accuracy: 0.4922 - val_loss: 1.5372 - val_accuracy: 0.4115\n",
      "Epoch 112/200\n",
      "48/48 [==============================] - 1s 15ms/step - loss: 1.3316 - accuracy: 0.5065 - val_loss: 1.5331 - val_accuracy: 0.4479\n",
      "Epoch 113/200\n",
      "48/48 [==============================] - 1s 15ms/step - loss: 1.3217 - accuracy: 0.5143 - val_loss: 1.6391 - val_accuracy: 0.4062\n",
      "Epoch 114/200\n",
      "48/48 [==============================] - 1s 16ms/step - loss: 1.3220 - accuracy: 0.5104 - val_loss: 1.6382 - val_accuracy: 0.3802\n",
      "Epoch 115/200\n"
     ]
    },
    {
     "name": "stdout",
     "output_type": "stream",
     "text": [
      "48/48 [==============================] - 1s 15ms/step - loss: 1.3327 - accuracy: 0.5130 - val_loss: 1.5592 - val_accuracy: 0.4062\n",
      "Epoch 116/200\n",
      "48/48 [==============================] - 1s 15ms/step - loss: 1.2984 - accuracy: 0.5169 - val_loss: 1.5421 - val_accuracy: 0.4219\n",
      "Epoch 117/200\n",
      "48/48 [==============================] - 1s 15ms/step - loss: 1.3106 - accuracy: 0.5039 - val_loss: 1.5769 - val_accuracy: 0.4010\n",
      "Epoch 118/200\n",
      "48/48 [==============================] - 1s 16ms/step - loss: 1.2946 - accuracy: 0.5169 - val_loss: 1.5547 - val_accuracy: 0.4167\n",
      "Epoch 119/200\n",
      "48/48 [==============================] - 1s 15ms/step - loss: 1.3061 - accuracy: 0.5039 - val_loss: 1.5359 - val_accuracy: 0.4271\n",
      "Epoch 120/200\n",
      "48/48 [==============================] - 1s 15ms/step - loss: 1.2926 - accuracy: 0.5339 - val_loss: 1.5308 - val_accuracy: 0.4115\n",
      "Epoch 121/200\n",
      "48/48 [==============================] - 1s 16ms/step - loss: 1.2874 - accuracy: 0.5221 - val_loss: 1.5095 - val_accuracy: 0.4219\n",
      "Epoch 122/200\n",
      "48/48 [==============================] - 1s 15ms/step - loss: 1.2929 - accuracy: 0.5182 - val_loss: 1.5760 - val_accuracy: 0.4115\n",
      "Epoch 123/200\n",
      "48/48 [==============================] - 1s 15ms/step - loss: 1.3149 - accuracy: 0.4987 - val_loss: 1.5173 - val_accuracy: 0.4115\n",
      "Epoch 124/200\n",
      "48/48 [==============================] - 1s 15ms/step - loss: 1.2859 - accuracy: 0.5352 - val_loss: 1.5269 - val_accuracy: 0.4375\n",
      "Epoch 125/200\n",
      "48/48 [==============================] - 1s 14ms/step - loss: 1.2815 - accuracy: 0.5156 - val_loss: 1.5069 - val_accuracy: 0.4375\n",
      "Epoch 126/200\n",
      "48/48 [==============================] - 1s 14ms/step - loss: 1.2642 - accuracy: 0.5195 - val_loss: 1.5532 - val_accuracy: 0.4115\n",
      "Epoch 127/200\n",
      "48/48 [==============================] - 1s 15ms/step - loss: 1.2931 - accuracy: 0.5078 - val_loss: 1.5085 - val_accuracy: 0.4531\n",
      "Epoch 128/200\n",
      "48/48 [==============================] - 1s 15ms/step - loss: 1.2549 - accuracy: 0.5430 - val_loss: 1.5004 - val_accuracy: 0.4427\n",
      "Epoch 129/200\n",
      "48/48 [==============================] - 1s 15ms/step - loss: 1.2508 - accuracy: 0.5391 - val_loss: 1.5152 - val_accuracy: 0.4323\n",
      "Epoch 130/200\n",
      "48/48 [==============================] - 1s 15ms/step - loss: 1.2619 - accuracy: 0.5378 - val_loss: 1.5131 - val_accuracy: 0.4323\n",
      "Epoch 131/200\n",
      "48/48 [==============================] - 1s 13ms/step - loss: 1.2713 - accuracy: 0.5260 - val_loss: 1.5099 - val_accuracy: 0.4323\n",
      "Epoch 132/200\n",
      "48/48 [==============================] - 1s 14ms/step - loss: 1.2545 - accuracy: 0.5221 - val_loss: 1.5329 - val_accuracy: 0.4010\n",
      "Epoch 133/200\n",
      "48/48 [==============================] - 1s 15ms/step - loss: 1.2683 - accuracy: 0.5234 - val_loss: 1.5317 - val_accuracy: 0.4375\n",
      "Epoch 134/200\n",
      "48/48 [==============================] - 1s 15ms/step - loss: 1.2601 - accuracy: 0.5260 - val_loss: 1.5104 - val_accuracy: 0.4531\n",
      "Epoch 135/200\n",
      "48/48 [==============================] - 1s 15ms/step - loss: 1.2498 - accuracy: 0.5443 - val_loss: 1.5227 - val_accuracy: 0.4375\n",
      "Epoch 136/200\n",
      "48/48 [==============================] - 1s 15ms/step - loss: 1.2632 - accuracy: 0.5169 - val_loss: 1.5004 - val_accuracy: 0.4375\n",
      "Epoch 137/200\n",
      "48/48 [==============================] - 1s 15ms/step - loss: 1.2681 - accuracy: 0.5365 - val_loss: 1.4971 - val_accuracy: 0.4479\n",
      "Epoch 138/200\n",
      "48/48 [==============================] - 1s 15ms/step - loss: 1.2288 - accuracy: 0.5443 - val_loss: 1.5064 - val_accuracy: 0.4427\n",
      "Epoch 139/200\n",
      "48/48 [==============================] - 1s 15ms/step - loss: 1.2454 - accuracy: 0.5469 - val_loss: 1.4836 - val_accuracy: 0.4427\n",
      "Epoch 140/200\n",
      "48/48 [==============================] - 1s 16ms/step - loss: 1.2561 - accuracy: 0.5260 - val_loss: 1.4833 - val_accuracy: 0.4583\n",
      "Epoch 141/200\n",
      "48/48 [==============================] - 1s 14ms/step - loss: 1.2196 - accuracy: 0.5560 - val_loss: 1.4891 - val_accuracy: 0.4583\n",
      "Epoch 142/200\n",
      "48/48 [==============================] - 1s 15ms/step - loss: 1.2286 - accuracy: 0.5547 - val_loss: 1.4792 - val_accuracy: 0.4635\n",
      "Epoch 143/200\n",
      "48/48 [==============================] - 1s 14ms/step - loss: 1.2527 - accuracy: 0.5352 - val_loss: 1.4774 - val_accuracy: 0.4688\n",
      "Epoch 144/200\n",
      "48/48 [==============================] - 1s 15ms/step - loss: 1.2401 - accuracy: 0.5378 - val_loss: 1.4774 - val_accuracy: 0.4583\n",
      "Epoch 145/200\n",
      "48/48 [==============================] - 1s 14ms/step - loss: 1.2356 - accuracy: 0.5365 - val_loss: 1.5404 - val_accuracy: 0.4010\n",
      "Epoch 146/200\n",
      "48/48 [==============================] - 1s 14ms/step - loss: 1.2233 - accuracy: 0.5547 - val_loss: 1.4986 - val_accuracy: 0.4531\n",
      "Epoch 147/200\n",
      "48/48 [==============================] - 1s 14ms/step - loss: 1.2181 - accuracy: 0.5430 - val_loss: 1.4872 - val_accuracy: 0.4219\n",
      "Epoch 148/200\n",
      "48/48 [==============================] - 1s 14ms/step - loss: 1.2346 - accuracy: 0.5547 - val_loss: 1.4704 - val_accuracy: 0.5052\n",
      "Epoch 149/200\n",
      "48/48 [==============================] - 1s 15ms/step - loss: 1.2305 - accuracy: 0.5417 - val_loss: 1.4696 - val_accuracy: 0.4740\n",
      "Epoch 150/200\n",
      "48/48 [==============================] - 1s 15ms/step - loss: 1.2144 - accuracy: 0.5690 - val_loss: 1.4915 - val_accuracy: 0.4531\n",
      "Epoch 151/200\n",
      "48/48 [==============================] - 1s 15ms/step - loss: 1.2036 - accuracy: 0.5365 - val_loss: 1.4938 - val_accuracy: 0.4427\n",
      "Epoch 152/200\n",
      "48/48 [==============================] - 1s 15ms/step - loss: 1.2171 - accuracy: 0.5469 - val_loss: 1.4736 - val_accuracy: 0.4740\n",
      "Epoch 153/200\n",
      "48/48 [==============================] - 1s 16ms/step - loss: 1.2126 - accuracy: 0.5638 - val_loss: 1.4565 - val_accuracy: 0.4792\n",
      "Epoch 154/200\n",
      "48/48 [==============================] - 1s 18ms/step - loss: 1.2264 - accuracy: 0.5260 - val_loss: 1.4571 - val_accuracy: 0.4740\n",
      "Epoch 155/200\n",
      "48/48 [==============================] - 1s 17ms/step - loss: 1.2172 - accuracy: 0.5456 - val_loss: 1.4953 - val_accuracy: 0.4635\n",
      "Epoch 156/200\n",
      "48/48 [==============================] - 1s 17ms/step - loss: 1.1964 - accuracy: 0.5625 - val_loss: 1.4729 - val_accuracy: 0.4740\n",
      "Epoch 157/200\n",
      "48/48 [==============================] - 1s 14ms/step - loss: 1.2084 - accuracy: 0.5521 - val_loss: 1.4871 - val_accuracy: 0.4479\n",
      "Epoch 158/200\n",
      "48/48 [==============================] - 1s 16ms/step - loss: 1.1974 - accuracy: 0.5781 - val_loss: 1.4653 - val_accuracy: 0.4688\n",
      "Epoch 159/200\n",
      "48/48 [==============================] - 1s 17ms/step - loss: 1.1879 - accuracy: 0.5716 - val_loss: 1.4615 - val_accuracy: 0.4635\n",
      "Epoch 160/200\n",
      "48/48 [==============================] - 1s 17ms/step - loss: 1.1967 - accuracy: 0.5573 - val_loss: 1.4649 - val_accuracy: 0.4688\n",
      "Epoch 161/200\n",
      "48/48 [==============================] - 1s 15ms/step - loss: 1.1889 - accuracy: 0.5651 - val_loss: 1.4608 - val_accuracy: 0.4844\n",
      "Epoch 162/200\n",
      "48/48 [==============================] - 1s 15ms/step - loss: 1.1874 - accuracy: 0.5716 - val_loss: 1.4611 - val_accuracy: 0.4635\n",
      "Epoch 163/200\n",
      "48/48 [==============================] - 1s 15ms/step - loss: 1.1840 - accuracy: 0.5742 - val_loss: 1.4780 - val_accuracy: 0.4479\n",
      "Epoch 164/200\n",
      "48/48 [==============================] - 1s 15ms/step - loss: 1.1687 - accuracy: 0.6029 - val_loss: 1.4768 - val_accuracy: 0.4583\n",
      "Epoch 165/200\n",
      "48/48 [==============================] - 1s 16ms/step - loss: 1.1793 - accuracy: 0.5729 - val_loss: 1.4813 - val_accuracy: 0.4583\n",
      "Epoch 166/200\n",
      "48/48 [==============================] - 1s 17ms/step - loss: 1.1546 - accuracy: 0.5638 - val_loss: 1.5097 - val_accuracy: 0.4219\n",
      "Epoch 167/200\n",
      "48/48 [==============================] - 1s 16ms/step - loss: 1.1588 - accuracy: 0.5573 - val_loss: 1.4567 - val_accuracy: 0.4792\n",
      "Epoch 168/200\n",
      "48/48 [==============================] - 1s 16ms/step - loss: 1.1691 - accuracy: 0.5573 - val_loss: 1.4536 - val_accuracy: 0.4792\n",
      "Epoch 169/200\n",
      "48/48 [==============================] - 1s 16ms/step - loss: 1.1602 - accuracy: 0.5703 - val_loss: 1.4595 - val_accuracy: 0.4792\n",
      "Epoch 170/200\n",
      "48/48 [==============================] - 1s 15ms/step - loss: 1.1566 - accuracy: 0.5768 - val_loss: 1.4728 - val_accuracy: 0.4688\n",
      "Epoch 171/200\n",
      "48/48 [==============================] - 1s 17ms/step - loss: 1.1714 - accuracy: 0.5677 - val_loss: 1.4720 - val_accuracy: 0.4531\n"
     ]
    },
    {
     "name": "stdout",
     "output_type": "stream",
     "text": [
      "Epoch 172/200\n",
      "48/48 [==============================] - 1s 16ms/step - loss: 1.1506 - accuracy: 0.5807 - val_loss: 1.4596 - val_accuracy: 0.4583\n",
      "Epoch 173/200\n",
      "48/48 [==============================] - 1s 18ms/step - loss: 1.1622 - accuracy: 0.5547 - val_loss: 1.4781 - val_accuracy: 0.4635\n",
      "Epoch 174/200\n",
      "48/48 [==============================] - 1s 15ms/step - loss: 1.1600 - accuracy: 0.5924 - val_loss: 1.4488 - val_accuracy: 0.4948\n",
      "Epoch 175/200\n",
      "48/48 [==============================] - 1s 16ms/step - loss: 1.1472 - accuracy: 0.5755 - val_loss: 1.4485 - val_accuracy: 0.4844\n",
      "Epoch 176/200\n",
      "48/48 [==============================] - 1s 16ms/step - loss: 1.1569 - accuracy: 0.5690 - val_loss: 1.4422 - val_accuracy: 0.4896\n",
      "Epoch 177/200\n",
      "48/48 [==============================] - 1s 15ms/step - loss: 1.1645 - accuracy: 0.5755 - val_loss: 1.4782 - val_accuracy: 0.4479\n",
      "Epoch 178/200\n",
      "48/48 [==============================] - 1s 16ms/step - loss: 1.1563 - accuracy: 0.5677 - val_loss: 1.4649 - val_accuracy: 0.4635\n",
      "Epoch 179/200\n",
      "48/48 [==============================] - 1s 17ms/step - loss: 1.1383 - accuracy: 0.5820 - val_loss: 1.4576 - val_accuracy: 0.4844\n",
      "Epoch 180/200\n",
      "48/48 [==============================] - 1s 17ms/step - loss: 1.1488 - accuracy: 0.5742 - val_loss: 1.4434 - val_accuracy: 0.4844\n",
      "Epoch 181/200\n",
      "48/48 [==============================] - 1s 18ms/step - loss: 1.1392 - accuracy: 0.5872 - val_loss: 1.4602 - val_accuracy: 0.4427\n",
      "Epoch 182/200\n",
      "48/48 [==============================] - 1s 17ms/step - loss: 1.1475 - accuracy: 0.5820 - val_loss: 1.4811 - val_accuracy: 0.4479\n",
      "Epoch 183/200\n",
      "48/48 [==============================] - 1s 17ms/step - loss: 1.1304 - accuracy: 0.5885 - val_loss: 1.4367 - val_accuracy: 0.4844\n",
      "Epoch 184/200\n",
      "48/48 [==============================] - 1s 15ms/step - loss: 1.1309 - accuracy: 0.5768 - val_loss: 1.4658 - val_accuracy: 0.4844\n",
      "Epoch 185/200\n",
      "48/48 [==============================] - 1s 15ms/step - loss: 1.1166 - accuracy: 0.5846 - val_loss: 1.4437 - val_accuracy: 0.4740\n",
      "Epoch 186/200\n",
      "48/48 [==============================] - 1s 15ms/step - loss: 1.1309 - accuracy: 0.5924 - val_loss: 1.4343 - val_accuracy: 0.5052\n",
      "Epoch 187/200\n",
      "48/48 [==============================] - 1s 14ms/step - loss: 1.1383 - accuracy: 0.5924 - val_loss: 1.4779 - val_accuracy: 0.4635\n",
      "Epoch 188/200\n",
      "48/48 [==============================] - 1s 15ms/step - loss: 1.1141 - accuracy: 0.5846 - val_loss: 1.4420 - val_accuracy: 0.4948\n",
      "Epoch 189/200\n",
      "48/48 [==============================] - 1s 15ms/step - loss: 1.1113 - accuracy: 0.5846 - val_loss: 1.4405 - val_accuracy: 0.4792\n",
      "Epoch 190/200\n",
      "48/48 [==============================] - 1s 16ms/step - loss: 1.1116 - accuracy: 0.6003 - val_loss: 1.4378 - val_accuracy: 0.5104\n",
      "Epoch 191/200\n",
      "48/48 [==============================] - 1s 16ms/step - loss: 1.1240 - accuracy: 0.5924 - val_loss: 1.4539 - val_accuracy: 0.4792\n",
      "Epoch 192/200\n",
      "48/48 [==============================] - 1s 16ms/step - loss: 1.1151 - accuracy: 0.5846 - val_loss: 1.4471 - val_accuracy: 0.5052\n",
      "Epoch 193/200\n",
      "48/48 [==============================] - 1s 16ms/step - loss: 1.1136 - accuracy: 0.5729 - val_loss: 1.4816 - val_accuracy: 0.4531\n",
      "Epoch 194/200\n",
      "48/48 [==============================] - 1s 16ms/step - loss: 1.1419 - accuracy: 0.5690 - val_loss: 1.4317 - val_accuracy: 0.4896\n",
      "Epoch 195/200\n",
      "48/48 [==============================] - 1s 17ms/step - loss: 1.1019 - accuracy: 0.5885 - val_loss: 1.4361 - val_accuracy: 0.4948\n",
      "Epoch 196/200\n",
      "48/48 [==============================] - 1s 17ms/step - loss: 1.1136 - accuracy: 0.5964 - val_loss: 1.4321 - val_accuracy: 0.4896\n",
      "Epoch 197/200\n",
      "48/48 [==============================] - 1s 17ms/step - loss: 1.0872 - accuracy: 0.5911 - val_loss: 1.4441 - val_accuracy: 0.4688\n",
      "Epoch 198/200\n",
      "48/48 [==============================] - 1s 16ms/step - loss: 1.0797 - accuracy: 0.6042 - val_loss: 1.4901 - val_accuracy: 0.4427\n",
      "Epoch 199/200\n",
      "48/48 [==============================] - 1s 18ms/step - loss: 1.0960 - accuracy: 0.5951 - val_loss: 1.4477 - val_accuracy: 0.4635\n",
      "Epoch 200/200\n",
      "48/48 [==============================] - 1s 19ms/step - loss: 1.0869 - accuracy: 0.6029 - val_loss: 1.4350 - val_accuracy: 0.5052\n",
      "Model took 331.6051 seconds to run!\n"
     ]
    }
   ],
   "source": [
    "num_epochs = 200\n",
    "\n",
    "tic = time.perf_counter()\n",
    "baselineModelHistory=baselineModel.fit(x_traincnn, y_train, batch_size=16, epochs=num_epochs, validation_data=(x_testcnn, y_test))\n",
    "toc = time.perf_counter()\n",
    "print(f\"Model took {toc - tic:0.4f} seconds to run!\")"
   ]
  },
  {
   "cell_type": "code",
   "execution_count": 26,
   "metadata": {},
   "outputs": [
    {
     "name": "stdout",
     "output_type": "stream",
     "text": [
      "dict_keys(['loss', 'accuracy', 'val_loss', 'val_accuracy'])\n"
     ]
    }
   ],
   "source": [
    "print(baselineModelHistory.history.keys())"
   ]
  },
  {
   "cell_type": "markdown",
   "metadata": {},
   "source": [
    "## Plot *Model Loss*"
   ]
  },
  {
   "cell_type": "code",
   "execution_count": 95,
   "metadata": {},
   "outputs": [
    {
     "data": {
      "image/png": "[encoded data removed]",
      "text/plain": [
       "<Figure size 432x288 with 1 Axes>"
      ]
     },
     "metadata": {
      "needs_background": "light"
     },
     "output_type": "display_data"
    }
   ],
   "source": [
    "plt.plot(baselineModelHistory.history['loss'])\n",
    "plt.plot(baselineModelHistory.history['val_loss'])\n",
    "plt.title('Model Loss')\n",
    "plt.ylabel('Loss')\n",
    "plt.xlabel('Epoch')\n",
    "plt.legend(['Train', 'Test'], loc='upper left')\n",
    "plt.show()"
   ]
  },
  {
   "cell_type": "markdown",
   "metadata": {},
   "source": [
    "## Plot *Model Accuracy*"
   ]
  },
  {
   "cell_type": "code",
   "execution_count": 96,
   "metadata": {},
   "outputs": [
    {
     "data": {
      "image/png": "[encoded data removed]",
      "text/plain": [
       "<Figure size 432x288 with 1 Axes>"
      ]
     },
     "metadata": {
      "needs_background": "light"
     },
     "output_type": "display_data"
    }
   ],
   "source": [
    "plt.plot(baselineModelHistory.history['accuracy'])\n",
    "plt.plot(baselineModelHistory.history['val_accuracy'])\n",
    "plt.title('Model Accuracy')\n",
    "plt.ylabel('Validation Loss')\n",
    "plt.xlabel('Epoch')\n",
    "plt.legend(['train', 'test'], loc='upper left')\n",
    "plt.show()"
   ]
  },
  {
   "cell_type": "code",
   "execution_count": 97,
   "metadata": {},
   "outputs": [
    {
     "name": "stdout",
     "output_type": "stream",
     "text": [
      "24/24 [==============================] - 1s 21ms/step\n",
      "6/6 [==============================] - 0s 19ms/step\n"
     ]
    }
   ],
   "source": [
    "y_train_predict_Baseline = baselineModel.predict(x_traincnn)\n",
    "y_test_predict_Baseline = baselineModel.predict(x_testcnn)"
   ]
  },
  {
   "cell_type": "markdown",
   "metadata": {},
   "source": [
    "# Project Stops here...below is extra testing"
   ]
  },
  {
   "cell_type": "markdown",
   "metadata": {},
   "source": [
    "## Training Results based on Confusion Matrix"
   ]
  },
  {
   "cell_type": "code",
   "execution_count": null,
   "metadata": {},
   "outputs": [],
   "source": [
    "from sklearn.metrics import confusion_matrix as cm\n",
    "from sklearn.metrics import classification_report as cr\n",
    "#from sklearn.metrics import multilabel_confusion_matrix as cm"
   ]
  },
  {
   "cell_type": "code",
   "execution_count": 98,
   "metadata": {},
   "outputs": [
    {
     "name": "stdout",
     "output_type": "stream",
     "text": [
      "[[53  2  9  3  4  2  1  0  2  1]\n",
      " [ 3 68  3  1  4  0  1  1  0  1]\n",
      " [ 5  6 52 11  3  0  0  0  0  0]\n",
      " [ 3 11  9 50  2  0  0  0  0  2]\n",
      " [ 4 25  4  9 35  0  0  0  0  0]\n",
      " [ 1  0  1  0  0 57  3  4  1  2]\n",
      " [ 0  2  0  0  1  0 60  0  4 12]\n",
      " [ 5  3  3  4  0  7  1 42  2 11]\n",
      " [ 4  1  1  0  1 10  6 13 28  9]\n",
      " [ 5  3  0  1  0  1 11  5  4 49]]\n",
      "              precision    recall  f1-score   support\n",
      "\n",
      "           0       0.64      0.69      0.66        77\n",
      "           1       0.56      0.83      0.67        82\n",
      "           2       0.63      0.68      0.65        77\n",
      "           3       0.63      0.65      0.64        77\n",
      "           4       0.70      0.45      0.55        77\n",
      "           5       0.74      0.83      0.78        69\n",
      "           6       0.72      0.76      0.74        79\n",
      "           7       0.65      0.54      0.59        78\n",
      "           8       0.68      0.38      0.49        73\n",
      "           9       0.56      0.62      0.59        79\n",
      "\n",
      "    accuracy                           0.64       768\n",
      "   macro avg       0.65      0.64      0.64       768\n",
      "weighted avg       0.65      0.64      0.64       768\n",
      "\n"
     ]
    }
   ],
   "source": [
    "print(cm(y_train.argmax(axis=1),y_train_predict_Baseline.argmax(axis=1)))\n",
    "print(cr(y_train.argmax(axis=1),y_train_predict_Baseline.argmax(axis=1)))"
   ]
  },
  {
   "cell_type": "markdown",
   "metadata": {},
   "source": [
    "## Validation Testing Results"
   ]
  },
  {
   "cell_type": "code",
   "execution_count": 99,
   "metadata": {
    "scrolled": false
   },
   "outputs": [
    {
     "name": "stdout",
     "output_type": "stream",
     "text": [
      "[[ 9  2  1  2  2  1  0  0  0  2]\n",
      " [ 1  9  0  1  3  0  0  0  0  0]\n",
      " [ 2  1 11  4  0  0  0  1  0  0]\n",
      " [ 5  4  2  7  1  0  0  0  0  0]\n",
      " [ 3  7  0  4  5  0  0  0  0  0]\n",
      " [ 5  0  0  0  0 15  1  4  1  1]\n",
      " [ 0  1  0  0  0  0  9  2  0  5]\n",
      " [ 1  1  1  0  0  3  2  8  0  2]\n",
      " [ 2  1  0  2  1  4  2  6  2  3]\n",
      " [ 2  5  0  0  0  0  2  3  2  3]]\n",
      "              precision    recall  f1-score   support\n",
      "\n",
      "           0       0.30      0.47      0.37        19\n",
      "           1       0.29      0.64      0.40        14\n",
      "           2       0.73      0.58      0.65        19\n",
      "           3       0.35      0.37      0.36        19\n",
      "           4       0.42      0.26      0.32        19\n",
      "           5       0.65      0.56      0.60        27\n",
      "           6       0.56      0.53      0.55        17\n",
      "           7       0.33      0.44      0.38        18\n",
      "           8       0.40      0.09      0.14        23\n",
      "           9       0.19      0.18      0.18        17\n",
      "\n",
      "    accuracy                           0.41       192\n",
      "   macro avg       0.42      0.41      0.39       192\n",
      "weighted avg       0.44      0.41      0.40       192\n",
      "\n"
     ]
    }
   ],
   "source": [
    "print(cm(y_test.argmax(axis=1),y_test_predict_Baseline.argmax(axis=1)))\n",
    "print(cr(y_test.argmax(axis=1),y_test_predict_Baseline.argmax(axis=1)))"
   ]
  },
  {
   "cell_type": "markdown",
   "metadata": {},
   "source": [
    "# Trying 1D CNN [from Chollet, page 291]\n",
    "\n",
    "## Keep as competitor/proposed model\n",
    "\n",
    "### Why this model is better:\n",
    "\n",
    "1) Outperforms `baseline` model on both the **Training** set (increased **Capacity**) and the **Validation** test dataset.\n",
    "\n",
    "2) It has 1 - (152,522/445,578) ~ **65.77%** fewer model parameters (**Complexity** has been reduced). Thereby it runs faster too (less **computations).\n",
    "\n",
    "3) Our model uses **parameter regulation** through $l_1$-*norm* (on the exit MLP) to prevent *overfitting*."
   ]
  },
  {
   "cell_type": "code",
   "execution_count": 104,
   "metadata": {},
   "outputs": [],
   "source": [
    "from keras import layers"
   ]
  },
  {
   "cell_type": "code",
   "execution_count": 115,
   "metadata": {},
   "outputs": [
    {
     "name": "stdout",
     "output_type": "stream",
     "text": [
      "Model: \"model_5\"\n",
      "_________________________________________________________________\n",
      " Layer (type)                Output Shape              Param #   \n",
      "=================================================================\n",
      " input_6 (InputLayer)        [(None, 216, 1)]          0         \n",
      "                                                                 \n",
      " conv1d_48 (Conv1D)          (None, 185, 128)          4224      \n",
      "                                                                 \n",
      " max_pooling1d_17 (MaxPoolin  (None, 92, 128)          0         \n",
      " g1D)                                                            \n",
      "                                                                 \n",
      " dropout_20 (Dropout)        (None, 92, 128)           0         \n",
      "                                                                 \n",
      " conv1d_49 (Conv1D)          (None, 87, 128)           98432     \n",
      "                                                                 \n",
      " max_pooling1d_18 (MaxPoolin  (None, 43, 128)          0         \n",
      " g1D)                                                            \n",
      "                                                                 \n",
      " dropout_21 (Dropout)        (None, 43, 128)           0         \n",
      "                                                                 \n",
      " conv1d_50 (Conv1D)          (None, 38, 64)            49216     \n",
      "                                                                 \n",
      " global_average_pooling1d_5   (None, 64)               0         \n",
      " (GlobalAveragePooling1D)                                        \n",
      "                                                                 \n",
      " dense_11 (Dense)            (None, 10)                650       \n",
      "                                                                 \n",
      "=================================================================\n",
      "Total params: 152,522\n",
      "Trainable params: 152,522\n",
      "Non-trainable params: 0\n",
      "_________________________________________________________________\n"
     ]
    }
   ],
   "source": [
    "num_classes = len(labels[0].unique())\n",
    "\n",
    "inputs = keras.Input(shape=(216,1))\n",
    "x = layers.Conv1D(128, 32, kernel_initializer ='he_normal',activation=\"relu\")(inputs)\n",
    "x = layers.MaxPooling1D(2)(x)\n",
    "x = layers.Dropout(0.2)(x)\n",
    "x = layers.Conv1D(128, 6, activation=\"relu\")(x)\n",
    "x = layers.MaxPooling1D(2)(x)\n",
    "x = layers.Dropout(0.2)(x)\n",
    "x = layers.Conv1D(64, 6, activation=\"relu\")(x)\n",
    "x = layers.GlobalAveragePooling1D()(x)\n",
    "outputs = layers.Dense(num_classes,\n",
    "                       kernel_regularizer=regularizers.l1(0.01),\n",
    "                       bias_regularizer=regularizers.l1(0.01),\n",
    "                       activation='softmax')(x)\n",
    "myCNNModel = keras.Model(inputs, outputs)\n",
    "\n",
    "#opt = keras.optimizers.RMSprop(learning_rate=0.00001, decay=1e-6)\n",
    "#myCNNModel.compile(loss='categorical_crossentropy', optimizer=opt, metrics=['accuracy'])\n",
    "myCNNModel.compile(loss='categorical_crossentropy', optimizer='rmsprop', metrics=['accuracy'])\n",
    "\n",
    "myCNNModel.summary()"
   ]
  },
  {
   "cell_type": "code",
   "execution_count": 116,
   "metadata": {
    "scrolled": true
   },
   "outputs": [
    {
     "name": "stdout",
     "output_type": "stream",
     "text": [
      "Epoch 1/200\n",
      "48/48 [==============================] - 2s 31ms/step - loss: 17.7217 - accuracy: 0.1016 - val_loss: 3.3760 - val_accuracy: 0.0885\n",
      "Epoch 2/200\n",
      "48/48 [==============================] - 1s 28ms/step - loss: 3.3282 - accuracy: 0.1445 - val_loss: 3.7118 - val_accuracy: 0.0990\n",
      "Epoch 3/200\n",
      "48/48 [==============================] - 1s 28ms/step - loss: 3.1666 - accuracy: 0.1693 - val_loss: 3.1081 - val_accuracy: 0.1667\n",
      "Epoch 4/200\n",
      "48/48 [==============================] - 1s 28ms/step - loss: 2.9627 - accuracy: 0.2135 - val_loss: 2.8096 - val_accuracy: 0.1615\n",
      "Epoch 5/200\n",
      "48/48 [==============================] - 1s 28ms/step - loss: 2.7797 - accuracy: 0.2174 - val_loss: 2.6548 - val_accuracy: 0.2656\n",
      "Epoch 6/200\n",
      "48/48 [==============================] - 1s 29ms/step - loss: 2.6257 - accuracy: 0.2487 - val_loss: 2.5706 - val_accuracy: 0.2552\n",
      "Epoch 7/200\n",
      "48/48 [==============================] - 1s 28ms/step - loss: 2.5766 - accuracy: 0.2695 - val_loss: 2.4994 - val_accuracy: 0.2708\n",
      "Epoch 8/200\n",
      "48/48 [==============================] - 1s 30ms/step - loss: 2.4044 - accuracy: 0.2826 - val_loss: 2.3202 - val_accuracy: 0.2604\n",
      "Epoch 9/200\n",
      "48/48 [==============================] - 1s 28ms/step - loss: 2.3246 - accuracy: 0.2904 - val_loss: 2.3086 - val_accuracy: 0.2969\n",
      "Epoch 10/200\n",
      "48/48 [==============================] - 1s 28ms/step - loss: 2.3004 - accuracy: 0.2773 - val_loss: 2.3322 - val_accuracy: 0.2500\n",
      "Epoch 11/200\n",
      "48/48 [==============================] - 1s 27ms/step - loss: 2.2028 - accuracy: 0.3021 - val_loss: 2.2979 - val_accuracy: 0.2708\n",
      "Epoch 12/200\n",
      "48/48 [==============================] - 1s 27ms/step - loss: 2.1447 - accuracy: 0.3307 - val_loss: 2.1465 - val_accuracy: 0.3021\n",
      "Epoch 13/200\n",
      "48/48 [==============================] - 1s 27ms/step - loss: 2.1139 - accuracy: 0.3281 - val_loss: 2.2105 - val_accuracy: 0.2396\n",
      "Epoch 14/200\n",
      "48/48 [==============================] - 1s 28ms/step - loss: 2.0660 - accuracy: 0.3151 - val_loss: 2.0685 - val_accuracy: 0.3125\n",
      "Epoch 15/200\n",
      "48/48 [==============================] - 1s 27ms/step - loss: 2.0412 - accuracy: 0.3320 - val_loss: 2.1309 - val_accuracy: 0.3438\n",
      "Epoch 16/200\n",
      "48/48 [==============================] - 1s 27ms/step - loss: 2.0046 - accuracy: 0.3307 - val_loss: 1.9420 - val_accuracy: 0.3073\n",
      "Epoch 17/200\n",
      "48/48 [==============================] - 1s 27ms/step - loss: 1.9910 - accuracy: 0.3490 - val_loss: 1.9613 - val_accuracy: 0.3385\n",
      "Epoch 18/200\n",
      "48/48 [==============================] - 1s 28ms/step - loss: 1.9506 - accuracy: 0.3802 - val_loss: 1.9549 - val_accuracy: 0.3542\n",
      "Epoch 19/200\n",
      "48/48 [==============================] - 1s 31ms/step - loss: 1.9736 - accuracy: 0.3581 - val_loss: 1.9550 - val_accuracy: 0.3333\n",
      "Epoch 20/200\n",
      "48/48 [==============================] - 1s 28ms/step - loss: 1.9023 - accuracy: 0.3490 - val_loss: 1.9753 - val_accuracy: 0.3385\n",
      "Epoch 21/200\n",
      "48/48 [==============================] - 1s 26ms/step - loss: 1.8790 - accuracy: 0.3750 - val_loss: 2.0020 - val_accuracy: 0.3125\n",
      "Epoch 22/200\n",
      "48/48 [==============================] - 1s 25ms/step - loss: 1.8832 - accuracy: 0.3854 - val_loss: 1.8595 - val_accuracy: 0.3490\n",
      "Epoch 23/200\n",
      "48/48 [==============================] - 1s 26ms/step - loss: 1.8466 - accuracy: 0.3880 - val_loss: 1.8848 - val_accuracy: 0.3698\n",
      "Epoch 24/200\n",
      "48/48 [==============================] - 1s 30ms/step - loss: 1.8277 - accuracy: 0.3958 - val_loss: 1.9224 - val_accuracy: 0.3750\n",
      "Epoch 25/200\n",
      "48/48 [==============================] - 1s 30ms/step - loss: 1.8331 - accuracy: 0.3919 - val_loss: 1.8642 - val_accuracy: 0.3229\n",
      "Epoch 26/200\n",
      "48/48 [==============================] - 1s 31ms/step - loss: 1.7923 - accuracy: 0.3997 - val_loss: 1.8048 - val_accuracy: 0.3750\n",
      "Epoch 27/200\n",
      "48/48 [==============================] - 1s 30ms/step - loss: 1.7849 - accuracy: 0.3841 - val_loss: 2.0665 - val_accuracy: 0.3073\n",
      "Epoch 28/200\n",
      "48/48 [==============================] - 1s 30ms/step - loss: 1.7960 - accuracy: 0.4128 - val_loss: 1.8209 - val_accuracy: 0.4010\n",
      "Epoch 29/200\n",
      "48/48 [==============================] - 1s 29ms/step - loss: 1.7743 - accuracy: 0.4062 - val_loss: 1.9235 - val_accuracy: 0.3750\n",
      "Epoch 30/200\n",
      "48/48 [==============================] - 2s 32ms/step - loss: 1.7604 - accuracy: 0.3867 - val_loss: 1.7989 - val_accuracy: 0.3594\n",
      "Epoch 31/200\n",
      "48/48 [==============================] - 1s 31ms/step - loss: 1.7660 - accuracy: 0.3958 - val_loss: 1.8752 - val_accuracy: 0.3542\n",
      "Epoch 32/200\n",
      "48/48 [==============================] - 2s 33ms/step - loss: 1.7109 - accuracy: 0.4154 - val_loss: 1.8698 - val_accuracy: 0.3854\n",
      "Epoch 33/200\n",
      "48/48 [==============================] - 2s 33ms/step - loss: 1.7626 - accuracy: 0.3854 - val_loss: 1.8831 - val_accuracy: 0.3385\n",
      "Epoch 34/200\n",
      "48/48 [==============================] - 1s 29ms/step - loss: 1.7232 - accuracy: 0.4245 - val_loss: 1.8177 - val_accuracy: 0.3906\n",
      "Epoch 35/200\n",
      "48/48 [==============================] - 1s 30ms/step - loss: 1.7099 - accuracy: 0.4076 - val_loss: 1.9068 - val_accuracy: 0.3385\n",
      "Epoch 36/200\n",
      "48/48 [==============================] - 1s 31ms/step - loss: 1.7095 - accuracy: 0.4362 - val_loss: 1.7818 - val_accuracy: 0.3802\n",
      "Epoch 37/200\n",
      "48/48 [==============================] - 1s 30ms/step - loss: 1.6823 - accuracy: 0.4362 - val_loss: 1.8596 - val_accuracy: 0.4062\n",
      "Epoch 38/200\n",
      "48/48 [==============================] - 2s 32ms/step - loss: 1.6803 - accuracy: 0.4310 - val_loss: 1.7327 - val_accuracy: 0.4375\n",
      "Epoch 39/200\n",
      "48/48 [==============================] - 1s 29ms/step - loss: 1.6654 - accuracy: 0.4310 - val_loss: 1.7779 - val_accuracy: 0.3594\n",
      "Epoch 40/200\n",
      "48/48 [==============================] - 2s 31ms/step - loss: 1.6685 - accuracy: 0.4219 - val_loss: 1.7559 - val_accuracy: 0.3542\n",
      "Epoch 41/200\n",
      "48/48 [==============================] - 1s 31ms/step - loss: 1.6458 - accuracy: 0.4323 - val_loss: 1.7305 - val_accuracy: 0.3646\n",
      "Epoch 42/200\n",
      "48/48 [==============================] - 1s 31ms/step - loss: 1.6443 - accuracy: 0.4271 - val_loss: 1.9815 - val_accuracy: 0.3125\n",
      "Epoch 43/200\n",
      "48/48 [==============================] - 1s 31ms/step - loss: 1.6699 - accuracy: 0.4167 - val_loss: 1.7745 - val_accuracy: 0.3750\n",
      "Epoch 44/200\n",
      "48/48 [==============================] - 2s 32ms/step - loss: 1.5989 - accuracy: 0.4544 - val_loss: 1.6941 - val_accuracy: 0.4062\n",
      "Epoch 45/200\n",
      "48/48 [==============================] - 2s 32ms/step - loss: 1.6386 - accuracy: 0.4544 - val_loss: 1.6959 - val_accuracy: 0.4010\n",
      "Epoch 46/200\n",
      "48/48 [==============================] - 2s 32ms/step - loss: 1.6061 - accuracy: 0.4388 - val_loss: 1.8729 - val_accuracy: 0.3385\n",
      "Epoch 47/200\n",
      "48/48 [==============================] - 2s 35ms/step - loss: 1.6174 - accuracy: 0.4310 - val_loss: 1.7312 - val_accuracy: 0.3698\n",
      "Epoch 48/200\n",
      "48/48 [==============================] - 2s 34ms/step - loss: 1.6152 - accuracy: 0.4531 - val_loss: 1.6940 - val_accuracy: 0.3698\n",
      "Epoch 49/200\n",
      "48/48 [==============================] - 2s 36ms/step - loss: 1.5568 - accuracy: 0.4557 - val_loss: 1.7704 - val_accuracy: 0.3906\n",
      "Epoch 50/200\n",
      "48/48 [==============================] - 2s 37ms/step - loss: 1.5566 - accuracy: 0.4544 - val_loss: 1.7813 - val_accuracy: 0.4167\n",
      "Epoch 51/200\n",
      "48/48 [==============================] - 2s 36ms/step - loss: 1.5657 - accuracy: 0.4570 - val_loss: 1.7510 - val_accuracy: 0.3802\n",
      "Epoch 52/200\n",
      "48/48 [==============================] - 2s 34ms/step - loss: 1.5830 - accuracy: 0.4674 - val_loss: 1.7374 - val_accuracy: 0.4167\n",
      "Epoch 53/200\n",
      "48/48 [==============================] - 2s 35ms/step - loss: 1.5560 - accuracy: 0.4688 - val_loss: 1.7643 - val_accuracy: 0.3385\n",
      "Epoch 54/200\n",
      "48/48 [==============================] - 2s 37ms/step - loss: 1.5233 - accuracy: 0.4531 - val_loss: 1.8012 - val_accuracy: 0.3490\n",
      "Epoch 55/200\n",
      "48/48 [==============================] - 2s 35ms/step - loss: 1.5649 - accuracy: 0.4518 - val_loss: 1.7195 - val_accuracy: 0.3594\n",
      "Epoch 56/200\n",
      "48/48 [==============================] - 2s 34ms/step - loss: 1.5210 - accuracy: 0.4661 - val_loss: 1.8830 - val_accuracy: 0.3854\n",
      "Epoch 57/200\n",
      "48/48 [==============================] - 2s 34ms/step - loss: 1.5384 - accuracy: 0.4740 - val_loss: 1.9015 - val_accuracy: 0.3490\n",
      "Epoch 58/200\n",
      "48/48 [==============================] - 2s 35ms/step - loss: 1.5122 - accuracy: 0.4766 - val_loss: 1.8458 - val_accuracy: 0.3281\n",
      "Epoch 59/200\n",
      "48/48 [==============================] - 2s 35ms/step - loss: 1.5353 - accuracy: 0.4688 - val_loss: 2.0415 - val_accuracy: 0.3229\n",
      "Epoch 60/200\n",
      "48/48 [==============================] - 2s 35ms/step - loss: 1.5024 - accuracy: 0.4909 - val_loss: 1.8776 - val_accuracy: 0.3542\n",
      "Epoch 61/200\n",
      "48/48 [==============================] - 2s 33ms/step - loss: 1.4912 - accuracy: 0.4831 - val_loss: 1.7971 - val_accuracy: 0.3385\n",
      "Epoch 62/200\n",
      "48/48 [==============================] - 2s 33ms/step - loss: 1.4952 - accuracy: 0.5013 - val_loss: 1.7120 - val_accuracy: 0.3594\n",
      "Epoch 63/200\n",
      "48/48 [==============================] - 2s 34ms/step - loss: 1.4646 - accuracy: 0.5052 - val_loss: 1.9350 - val_accuracy: 0.3854\n",
      "Epoch 64/200\n",
      "48/48 [==============================] - 2s 37ms/step - loss: 1.4644 - accuracy: 0.5052 - val_loss: 1.7086 - val_accuracy: 0.3490\n",
      "Epoch 65/200\n",
      "48/48 [==============================] - 2s 36ms/step - loss: 1.4735 - accuracy: 0.4727 - val_loss: 1.6678 - val_accuracy: 0.4323\n",
      "Epoch 66/200\n",
      "48/48 [==============================] - 2s 35ms/step - loss: 1.4734 - accuracy: 0.5013 - val_loss: 1.7634 - val_accuracy: 0.3958\n",
      "Epoch 67/200\n",
      "48/48 [==============================] - 2s 35ms/step - loss: 1.4546 - accuracy: 0.4779 - val_loss: 1.8489 - val_accuracy: 0.4115\n",
      "Epoch 68/200\n",
      "48/48 [==============================] - 2s 32ms/step - loss: 1.4743 - accuracy: 0.4935 - val_loss: 1.7883 - val_accuracy: 0.3594\n",
      "Epoch 69/200\n",
      "48/48 [==============================] - 1s 31ms/step - loss: 1.4389 - accuracy: 0.5143 - val_loss: 1.8349 - val_accuracy: 0.4062\n",
      "Epoch 70/200\n",
      "48/48 [==============================] - 2s 32ms/step - loss: 1.4291 - accuracy: 0.5195 - val_loss: 1.7085 - val_accuracy: 0.3906\n",
      "Epoch 71/200\n",
      "48/48 [==============================] - 1s 30ms/step - loss: 1.4319 - accuracy: 0.5156 - val_loss: 1.9261 - val_accuracy: 0.3333\n",
      "Epoch 72/200\n",
      "48/48 [==============================] - 2s 33ms/step - loss: 1.4376 - accuracy: 0.5182 - val_loss: 1.7384 - val_accuracy: 0.4375\n",
      "Epoch 73/200\n",
      "48/48 [==============================] - 2s 31ms/step - loss: 1.3978 - accuracy: 0.5273 - val_loss: 1.7106 - val_accuracy: 0.4167\n",
      "Epoch 74/200\n",
      "48/48 [==============================] - 1s 31ms/step - loss: 1.4232 - accuracy: 0.4766 - val_loss: 1.6705 - val_accuracy: 0.4010\n",
      "Epoch 75/200\n",
      "48/48 [==============================] - 2s 32ms/step - loss: 1.4128 - accuracy: 0.5117 - val_loss: 1.6440 - val_accuracy: 0.4323\n",
      "Epoch 76/200\n",
      "48/48 [==============================] - 1s 31ms/step - loss: 1.3665 - accuracy: 0.5260 - val_loss: 1.7862 - val_accuracy: 0.4375\n",
      "Epoch 77/200\n",
      "48/48 [==============================] - 1s 27ms/step - loss: 1.3452 - accuracy: 0.5599 - val_loss: 1.9147 - val_accuracy: 0.3281\n",
      "Epoch 78/200\n",
      "48/48 [==============================] - 1s 30ms/step - loss: 1.3842 - accuracy: 0.5221 - val_loss: 1.6746 - val_accuracy: 0.3958\n",
      "Epoch 79/200\n",
      "48/48 [==============================] - 1s 29ms/step - loss: 1.3625 - accuracy: 0.5312 - val_loss: 1.7178 - val_accuracy: 0.4323\n",
      "Epoch 80/200\n",
      "48/48 [==============================] - 1s 29ms/step - loss: 1.3529 - accuracy: 0.5404 - val_loss: 1.7735 - val_accuracy: 0.3854\n",
      "Epoch 81/200\n",
      "48/48 [==============================] - 1s 28ms/step - loss: 1.3793 - accuracy: 0.5326 - val_loss: 1.7794 - val_accuracy: 0.4167\n",
      "Epoch 82/200\n",
      "48/48 [==============================] - 1s 30ms/step - loss: 1.3785 - accuracy: 0.5391 - val_loss: 1.7510 - val_accuracy: 0.4062\n",
      "Epoch 83/200\n",
      "48/48 [==============================] - 1s 28ms/step - loss: 1.3737 - accuracy: 0.5443 - val_loss: 1.7699 - val_accuracy: 0.4219\n",
      "Epoch 84/200\n",
      "48/48 [==============================] - 1s 28ms/step - loss: 1.3168 - accuracy: 0.5664 - val_loss: 1.7698 - val_accuracy: 0.4167\n",
      "Epoch 85/200\n",
      "48/48 [==============================] - 1s 28ms/step - loss: 1.3374 - accuracy: 0.5339 - val_loss: 1.7085 - val_accuracy: 0.4427\n",
      "Epoch 86/200\n",
      "48/48 [==============================] - 1s 30ms/step - loss: 1.3287 - accuracy: 0.5456 - val_loss: 1.7309 - val_accuracy: 0.4375\n",
      "Epoch 87/200\n",
      "48/48 [==============================] - 1s 29ms/step - loss: 1.3186 - accuracy: 0.5560 - val_loss: 1.8043 - val_accuracy: 0.3646\n",
      "Epoch 88/200\n",
      "48/48 [==============================] - 1s 28ms/step - loss: 1.3250 - accuracy: 0.5573 - val_loss: 1.7245 - val_accuracy: 0.4115\n",
      "Epoch 89/200\n",
      "48/48 [==============================] - 1s 30ms/step - loss: 1.3322 - accuracy: 0.5742 - val_loss: 1.8441 - val_accuracy: 0.3698\n",
      "Epoch 90/200\n",
      "48/48 [==============================] - 1s 31ms/step - loss: 1.3261 - accuracy: 0.5599 - val_loss: 1.8276 - val_accuracy: 0.4062\n",
      "Epoch 91/200\n",
      "48/48 [==============================] - 1s 30ms/step - loss: 1.2901 - accuracy: 0.5521 - val_loss: 1.7272 - val_accuracy: 0.4115\n",
      "Epoch 92/200\n",
      "48/48 [==============================] - 1s 31ms/step - loss: 1.3173 - accuracy: 0.5612 - val_loss: 1.8227 - val_accuracy: 0.4219\n",
      "Epoch 93/200\n",
      "48/48 [==============================] - 2s 32ms/step - loss: 1.2823 - accuracy: 0.5755 - val_loss: 1.8305 - val_accuracy: 0.4010\n",
      "Epoch 94/200\n",
      "48/48 [==============================] - 2s 32ms/step - loss: 1.2798 - accuracy: 0.5690 - val_loss: 1.8017 - val_accuracy: 0.3854\n",
      "Epoch 95/200\n",
      "48/48 [==============================] - 2s 31ms/step - loss: 1.2814 - accuracy: 0.5651 - val_loss: 1.8012 - val_accuracy: 0.4115\n",
      "Epoch 96/200\n",
      "48/48 [==============================] - 2s 32ms/step - loss: 1.2884 - accuracy: 0.5755 - val_loss: 1.6994 - val_accuracy: 0.4167\n",
      "Epoch 97/200\n",
      "48/48 [==============================] - 2s 32ms/step - loss: 1.2539 - accuracy: 0.5625 - val_loss: 1.7009 - val_accuracy: 0.4635\n",
      "Epoch 98/200\n",
      "48/48 [==============================] - 2s 32ms/step - loss: 1.2753 - accuracy: 0.5638 - val_loss: 1.8844 - val_accuracy: 0.4167\n",
      "Epoch 99/200\n",
      "48/48 [==============================] - 1s 31ms/step - loss: 1.2703 - accuracy: 0.5742 - val_loss: 1.8841 - val_accuracy: 0.4115\n",
      "Epoch 100/200\n",
      "48/48 [==============================] - 2s 33ms/step - loss: 1.2599 - accuracy: 0.5820 - val_loss: 1.6694 - val_accuracy: 0.4479\n",
      "Epoch 101/200\n",
      "48/48 [==============================] - 2s 35ms/step - loss: 1.2720 - accuracy: 0.5638 - val_loss: 1.6894 - val_accuracy: 0.4323\n",
      "Epoch 102/200\n",
      "48/48 [==============================] - 2s 34ms/step - loss: 1.2675 - accuracy: 0.5938 - val_loss: 1.7392 - val_accuracy: 0.4531\n",
      "Epoch 103/200\n",
      "48/48 [==============================] - 2s 35ms/step - loss: 1.1973 - accuracy: 0.5964 - val_loss: 1.7221 - val_accuracy: 0.4323\n",
      "Epoch 104/200\n",
      "48/48 [==============================] - 2s 36ms/step - loss: 1.2044 - accuracy: 0.6146 - val_loss: 1.9449 - val_accuracy: 0.3906\n",
      "Epoch 105/200\n",
      "48/48 [==============================] - 2s 37ms/step - loss: 1.2277 - accuracy: 0.5911 - val_loss: 1.7947 - val_accuracy: 0.4010\n",
      "Epoch 106/200\n",
      "48/48 [==============================] - 2s 36ms/step - loss: 1.2390 - accuracy: 0.5794 - val_loss: 1.6847 - val_accuracy: 0.4375\n",
      "Epoch 107/200\n",
      "48/48 [==============================] - 2s 37ms/step - loss: 1.2036 - accuracy: 0.5977 - val_loss: 1.7138 - val_accuracy: 0.4271\n",
      "Epoch 108/200\n",
      "48/48 [==============================] - 2s 38ms/step - loss: 1.1761 - accuracy: 0.6042 - val_loss: 1.8391 - val_accuracy: 0.4531\n",
      "Epoch 109/200\n",
      "48/48 [==============================] - 2s 35ms/step - loss: 1.2339 - accuracy: 0.5924 - val_loss: 1.7967 - val_accuracy: 0.4219\n",
      "Epoch 110/200\n",
      "48/48 [==============================] - 2s 36ms/step - loss: 1.1875 - accuracy: 0.6159 - val_loss: 1.7490 - val_accuracy: 0.4219\n",
      "Epoch 111/200\n",
      "48/48 [==============================] - 2s 35ms/step - loss: 1.1948 - accuracy: 0.5872 - val_loss: 1.8766 - val_accuracy: 0.4115\n",
      "Epoch 112/200\n",
      "48/48 [==============================] - 2s 35ms/step - loss: 1.2040 - accuracy: 0.6146 - val_loss: 1.9271 - val_accuracy: 0.4271\n",
      "Epoch 113/200\n",
      "48/48 [==============================] - 2s 36ms/step - loss: 1.1915 - accuracy: 0.6029 - val_loss: 1.7460 - val_accuracy: 0.4531\n",
      "Epoch 114/200\n",
      "48/48 [==============================] - 2s 35ms/step - loss: 1.1656 - accuracy: 0.6081 - val_loss: 1.9201 - val_accuracy: 0.4271\n",
      "Epoch 115/200\n"
     ]
    },
    {
     "name": "stdout",
     "output_type": "stream",
     "text": [
      "48/48 [==============================] - 2s 36ms/step - loss: 1.1602 - accuracy: 0.5990 - val_loss: 1.8645 - val_accuracy: 0.4427\n",
      "Epoch 116/200\n",
      "48/48 [==============================] - 2s 41ms/step - loss: 1.1584 - accuracy: 0.6146 - val_loss: 1.8526 - val_accuracy: 0.3802\n",
      "Epoch 117/200\n",
      "48/48 [==============================] - 2s 40ms/step - loss: 1.1869 - accuracy: 0.5924 - val_loss: 1.9060 - val_accuracy: 0.4271\n",
      "Epoch 118/200\n",
      "48/48 [==============================] - 2s 39ms/step - loss: 1.1800 - accuracy: 0.6172 - val_loss: 1.8217 - val_accuracy: 0.4167\n",
      "Epoch 119/200\n",
      "48/48 [==============================] - 2s 40ms/step - loss: 1.1558 - accuracy: 0.6159 - val_loss: 1.7615 - val_accuracy: 0.4427\n",
      "Epoch 120/200\n",
      "48/48 [==============================] - 2s 38ms/step - loss: 1.1691 - accuracy: 0.6172 - val_loss: 1.8020 - val_accuracy: 0.4427\n",
      "Epoch 121/200\n",
      "48/48 [==============================] - 2s 35ms/step - loss: 1.1518 - accuracy: 0.6159 - val_loss: 1.7133 - val_accuracy: 0.4688\n",
      "Epoch 122/200\n",
      "48/48 [==============================] - 2s 37ms/step - loss: 1.1503 - accuracy: 0.6042 - val_loss: 1.7429 - val_accuracy: 0.4167\n",
      "Epoch 123/200\n",
      "48/48 [==============================] - 2s 39ms/step - loss: 1.1407 - accuracy: 0.6120 - val_loss: 1.9043 - val_accuracy: 0.4062\n",
      "Epoch 124/200\n",
      "48/48 [==============================] - 2s 38ms/step - loss: 1.1509 - accuracy: 0.6146 - val_loss: 1.8813 - val_accuracy: 0.4583\n",
      "Epoch 125/200\n",
      "48/48 [==============================] - 2s 38ms/step - loss: 1.1322 - accuracy: 0.6406 - val_loss: 1.8346 - val_accuracy: 0.4479\n",
      "Epoch 126/200\n",
      "48/48 [==============================] - 2s 39ms/step - loss: 1.1513 - accuracy: 0.6458 - val_loss: 1.8932 - val_accuracy: 0.3958\n",
      "Epoch 127/200\n",
      "48/48 [==============================] - 2s 38ms/step - loss: 1.1199 - accuracy: 0.6380 - val_loss: 1.8528 - val_accuracy: 0.4427\n",
      "Epoch 128/200\n",
      "48/48 [==============================] - 2s 36ms/step - loss: 1.0637 - accuracy: 0.6523 - val_loss: 1.9246 - val_accuracy: 0.3906\n",
      "Epoch 129/200\n",
      "48/48 [==============================] - 2s 38ms/step - loss: 1.1359 - accuracy: 0.6172 - val_loss: 1.7847 - val_accuracy: 0.4583\n",
      "Epoch 130/200\n",
      "48/48 [==============================] - 2s 35ms/step - loss: 1.0868 - accuracy: 0.6445 - val_loss: 2.0430 - val_accuracy: 0.4010\n",
      "Epoch 131/200\n",
      "48/48 [==============================] - 2s 36ms/step - loss: 1.1171 - accuracy: 0.6549 - val_loss: 1.9905 - val_accuracy: 0.4219\n",
      "Epoch 132/200\n",
      "48/48 [==============================] - 2s 35ms/step - loss: 1.0974 - accuracy: 0.6380 - val_loss: 1.8372 - val_accuracy: 0.4479\n",
      "Epoch 133/200\n",
      "48/48 [==============================] - 2s 38ms/step - loss: 1.0883 - accuracy: 0.6380 - val_loss: 2.0602 - val_accuracy: 0.4531\n",
      "Epoch 134/200\n",
      "48/48 [==============================] - 2s 39ms/step - loss: 1.1113 - accuracy: 0.6510 - val_loss: 1.9030 - val_accuracy: 0.4688\n",
      "Epoch 135/200\n",
      "48/48 [==============================] - 2s 38ms/step - loss: 1.0550 - accuracy: 0.6471 - val_loss: 1.9267 - val_accuracy: 0.4062\n",
      "Epoch 136/200\n",
      "48/48 [==============================] - 2s 39ms/step - loss: 1.0857 - accuracy: 0.6354 - val_loss: 1.8500 - val_accuracy: 0.4635\n",
      "Epoch 137/200\n",
      "48/48 [==============================] - 2s 38ms/step - loss: 1.0644 - accuracy: 0.6628 - val_loss: 1.8942 - val_accuracy: 0.4531\n",
      "Epoch 138/200\n",
      "48/48 [==============================] - 2s 37ms/step - loss: 1.0290 - accuracy: 0.6602 - val_loss: 1.8509 - val_accuracy: 0.4062\n",
      "Epoch 139/200\n",
      "48/48 [==============================] - 2s 35ms/step - loss: 1.0385 - accuracy: 0.6628 - val_loss: 2.0903 - val_accuracy: 0.3906\n",
      "Epoch 140/200\n",
      "48/48 [==============================] - 2s 38ms/step - loss: 1.0841 - accuracy: 0.6315 - val_loss: 1.8052 - val_accuracy: 0.4531\n",
      "Epoch 141/200\n",
      "48/48 [==============================] - 2s 37ms/step - loss: 1.0334 - accuracy: 0.6888 - val_loss: 2.0288 - val_accuracy: 0.4375\n",
      "Epoch 142/200\n",
      "48/48 [==============================] - 2s 39ms/step - loss: 1.0605 - accuracy: 0.6549 - val_loss: 1.7702 - val_accuracy: 0.4688\n",
      "Epoch 143/200\n",
      "48/48 [==============================] - 2s 37ms/step - loss: 1.0643 - accuracy: 0.6549 - val_loss: 1.9016 - val_accuracy: 0.4375\n",
      "Epoch 144/200\n",
      "48/48 [==============================] - 2s 35ms/step - loss: 1.0653 - accuracy: 0.6536 - val_loss: 1.8432 - val_accuracy: 0.4323\n",
      "Epoch 145/200\n",
      "48/48 [==============================] - 2s 35ms/step - loss: 1.0399 - accuracy: 0.6497 - val_loss: 1.8314 - val_accuracy: 0.4635\n",
      "Epoch 146/200\n",
      "48/48 [==============================] - 2s 36ms/step - loss: 1.0400 - accuracy: 0.6693 - val_loss: 1.9286 - val_accuracy: 0.4219\n",
      "Epoch 147/200\n",
      "48/48 [==============================] - 2s 37ms/step - loss: 1.0528 - accuracy: 0.6628 - val_loss: 1.9599 - val_accuracy: 0.4271\n",
      "Epoch 148/200\n",
      "48/48 [==============================] - 2s 39ms/step - loss: 1.0247 - accuracy: 0.6823 - val_loss: 2.0339 - val_accuracy: 0.3958\n",
      "Epoch 149/200\n",
      "48/48 [==============================] - 2s 39ms/step - loss: 0.9979 - accuracy: 0.6732 - val_loss: 1.8658 - val_accuracy: 0.4427\n",
      "Epoch 150/200\n",
      "48/48 [==============================] - 2s 38ms/step - loss: 0.9991 - accuracy: 0.6836 - val_loss: 1.8992 - val_accuracy: 0.4219\n",
      "Epoch 151/200\n",
      "48/48 [==============================] - 2s 36ms/step - loss: 1.0334 - accuracy: 0.6654 - val_loss: 1.9252 - val_accuracy: 0.4219\n",
      "Epoch 152/200\n",
      "48/48 [==============================] - 2s 38ms/step - loss: 1.0117 - accuracy: 0.6745 - val_loss: 2.1437 - val_accuracy: 0.3906\n",
      "Epoch 153/200\n",
      "48/48 [==============================] - 2s 38ms/step - loss: 0.9973 - accuracy: 0.6927 - val_loss: 1.9668 - val_accuracy: 0.4375\n",
      "Epoch 154/200\n",
      "48/48 [==============================] - 2s 40ms/step - loss: 1.0011 - accuracy: 0.6771 - val_loss: 1.8149 - val_accuracy: 0.4688\n",
      "Epoch 155/200\n",
      "48/48 [==============================] - 2s 38ms/step - loss: 1.0092 - accuracy: 0.6615 - val_loss: 2.0873 - val_accuracy: 0.4479\n",
      "Epoch 156/200\n",
      "48/48 [==============================] - 2s 42ms/step - loss: 0.9711 - accuracy: 0.6966 - val_loss: 2.0493 - val_accuracy: 0.4115\n",
      "Epoch 157/200\n",
      "48/48 [==============================] - 2s 42ms/step - loss: 0.9981 - accuracy: 0.6693 - val_loss: 1.9037 - val_accuracy: 0.4531\n",
      "Epoch 158/200\n",
      "48/48 [==============================] - 2s 41ms/step - loss: 0.9697 - accuracy: 0.6927 - val_loss: 1.8549 - val_accuracy: 0.4375\n",
      "Epoch 159/200\n",
      "48/48 [==============================] - 2s 37ms/step - loss: 0.9592 - accuracy: 0.7096 - val_loss: 1.9412 - val_accuracy: 0.4427\n",
      "Epoch 160/200\n",
      "48/48 [==============================] - 2s 38ms/step - loss: 1.0025 - accuracy: 0.6784 - val_loss: 1.9088 - val_accuracy: 0.4531\n",
      "Epoch 161/200\n",
      "48/48 [==============================] - 2s 38ms/step - loss: 0.9428 - accuracy: 0.7096 - val_loss: 1.9361 - val_accuracy: 0.4323\n",
      "Epoch 162/200\n",
      "48/48 [==============================] - 2s 37ms/step - loss: 0.9902 - accuracy: 0.6992 - val_loss: 2.0612 - val_accuracy: 0.4010\n",
      "Epoch 163/200\n",
      "48/48 [==============================] - 2s 35ms/step - loss: 0.9554 - accuracy: 0.7031 - val_loss: 1.9672 - val_accuracy: 0.4375\n",
      "Epoch 164/200\n",
      "48/48 [==============================] - 2s 36ms/step - loss: 0.9524 - accuracy: 0.6914 - val_loss: 1.8782 - val_accuracy: 0.4479\n",
      "Epoch 165/200\n",
      "48/48 [==============================] - 2s 38ms/step - loss: 0.9837 - accuracy: 0.6680 - val_loss: 1.9452 - val_accuracy: 0.4688\n",
      "Epoch 166/200\n",
      "48/48 [==============================] - 2s 37ms/step - loss: 0.9377 - accuracy: 0.7018 - val_loss: 1.8703 - val_accuracy: 0.4688\n",
      "Epoch 167/200\n",
      "48/48 [==============================] - 2s 34ms/step - loss: 0.9917 - accuracy: 0.6849 - val_loss: 1.9426 - val_accuracy: 0.4844\n",
      "Epoch 168/200\n",
      "48/48 [==============================] - 2s 37ms/step - loss: 0.9804 - accuracy: 0.6979 - val_loss: 1.8990 - val_accuracy: 0.4531\n",
      "Epoch 169/200\n",
      "48/48 [==============================] - 2s 35ms/step - loss: 0.9566 - accuracy: 0.6836 - val_loss: 2.0131 - val_accuracy: 0.4427\n",
      "Epoch 170/200\n",
      "48/48 [==============================] - 2s 36ms/step - loss: 0.9028 - accuracy: 0.7318 - val_loss: 1.9467 - val_accuracy: 0.4427\n",
      "Epoch 171/200\n",
      "48/48 [==============================] - 2s 36ms/step - loss: 0.9050 - accuracy: 0.7227 - val_loss: 2.0693 - val_accuracy: 0.4479\n"
     ]
    },
    {
     "name": "stdout",
     "output_type": "stream",
     "text": [
      "Epoch 172/200\n",
      "48/48 [==============================] - 2s 37ms/step - loss: 0.9659 - accuracy: 0.6901 - val_loss: 1.9573 - val_accuracy: 0.4635\n",
      "Epoch 173/200\n",
      "48/48 [==============================] - 2s 35ms/step - loss: 0.9323 - accuracy: 0.6979 - val_loss: 1.9647 - val_accuracy: 0.4375\n",
      "Epoch 174/200\n",
      "48/48 [==============================] - 2s 35ms/step - loss: 0.9091 - accuracy: 0.7188 - val_loss: 2.0799 - val_accuracy: 0.4583\n",
      "Epoch 175/200\n",
      "48/48 [==============================] - 2s 35ms/step - loss: 0.8896 - accuracy: 0.7305 - val_loss: 1.9996 - val_accuracy: 0.4531\n",
      "Epoch 176/200\n",
      "48/48 [==============================] - 2s 35ms/step - loss: 0.9550 - accuracy: 0.7188 - val_loss: 2.0380 - val_accuracy: 0.4375\n",
      "Epoch 177/200\n",
      "48/48 [==============================] - 2s 35ms/step - loss: 0.8875 - accuracy: 0.7135 - val_loss: 1.9773 - val_accuracy: 0.4531\n",
      "Epoch 178/200\n",
      "48/48 [==============================] - 2s 38ms/step - loss: 0.8916 - accuracy: 0.7279 - val_loss: 2.0841 - val_accuracy: 0.4375\n",
      "Epoch 179/200\n",
      "48/48 [==============================] - 2s 33ms/step - loss: 0.9073 - accuracy: 0.7266 - val_loss: 2.0183 - val_accuracy: 0.4792\n",
      "Epoch 180/200\n",
      "48/48 [==============================] - 1s 30ms/step - loss: 0.9536 - accuracy: 0.7018 - val_loss: 2.0130 - val_accuracy: 0.4635\n",
      "Epoch 181/200\n",
      "48/48 [==============================] - 1s 31ms/step - loss: 0.8961 - accuracy: 0.7174 - val_loss: 2.1797 - val_accuracy: 0.4479\n",
      "Epoch 182/200\n",
      "48/48 [==============================] - 1s 29ms/step - loss: 0.9099 - accuracy: 0.7214 - val_loss: 2.0157 - val_accuracy: 0.4635\n",
      "Epoch 183/200\n",
      "48/48 [==============================] - 1s 29ms/step - loss: 0.9310 - accuracy: 0.7031 - val_loss: 2.1133 - val_accuracy: 0.4167\n",
      "Epoch 184/200\n",
      "48/48 [==============================] - 1s 28ms/step - loss: 0.8649 - accuracy: 0.7383 - val_loss: 2.1141 - val_accuracy: 0.4115\n",
      "Epoch 185/200\n",
      "48/48 [==============================] - 1s 29ms/step - loss: 0.9034 - accuracy: 0.7188 - val_loss: 1.8855 - val_accuracy: 0.4219\n",
      "Epoch 186/200\n",
      "48/48 [==============================] - 1s 28ms/step - loss: 0.8555 - accuracy: 0.7500 - val_loss: 2.1177 - val_accuracy: 0.4583\n",
      "Epoch 187/200\n",
      "48/48 [==============================] - 1s 28ms/step - loss: 0.8838 - accuracy: 0.7266 - val_loss: 2.1196 - val_accuracy: 0.3958\n",
      "Epoch 188/200\n",
      "48/48 [==============================] - 1s 30ms/step - loss: 0.8855 - accuracy: 0.7370 - val_loss: 2.0076 - val_accuracy: 0.4323\n",
      "Epoch 189/200\n",
      "48/48 [==============================] - 1s 31ms/step - loss: 0.8924 - accuracy: 0.7057 - val_loss: 1.9502 - val_accuracy: 0.4479\n",
      "Epoch 190/200\n",
      "48/48 [==============================] - 1s 31ms/step - loss: 0.8591 - accuracy: 0.7435 - val_loss: 1.9436 - val_accuracy: 0.4479\n",
      "Epoch 191/200\n",
      "48/48 [==============================] - 1s 31ms/step - loss: 0.8595 - accuracy: 0.7383 - val_loss: 1.9079 - val_accuracy: 0.4740\n",
      "Epoch 192/200\n",
      "48/48 [==============================] - 1s 30ms/step - loss: 0.8841 - accuracy: 0.7344 - val_loss: 1.8554 - val_accuracy: 0.4792\n",
      "Epoch 193/200\n",
      "48/48 [==============================] - 1s 30ms/step - loss: 0.8699 - accuracy: 0.7474 - val_loss: 2.0157 - val_accuracy: 0.4375\n",
      "Epoch 194/200\n",
      "48/48 [==============================] - 2s 34ms/step - loss: 0.8553 - accuracy: 0.7292 - val_loss: 2.1606 - val_accuracy: 0.4427\n",
      "Epoch 195/200\n",
      "48/48 [==============================] - 2s 38ms/step - loss: 0.8163 - accuracy: 0.7487 - val_loss: 2.0621 - val_accuracy: 0.4896\n",
      "Epoch 196/200\n",
      "48/48 [==============================] - 2s 36ms/step - loss: 0.8417 - accuracy: 0.7201 - val_loss: 2.0710 - val_accuracy: 0.4219\n",
      "Epoch 197/200\n",
      "48/48 [==============================] - 2s 38ms/step - loss: 0.8443 - accuracy: 0.7539 - val_loss: 1.9963 - val_accuracy: 0.4427\n",
      "Epoch 198/200\n",
      "48/48 [==============================] - 2s 36ms/step - loss: 0.8340 - accuracy: 0.7500 - val_loss: 2.0826 - val_accuracy: 0.4740\n",
      "Epoch 199/200\n",
      "48/48 [==============================] - 2s 34ms/step - loss: 0.8581 - accuracy: 0.7474 - val_loss: 2.0485 - val_accuracy: 0.4531\n",
      "Epoch 200/200\n",
      "48/48 [==============================] - 2s 36ms/step - loss: 0.8296 - accuracy: 0.7552 - val_loss: 2.0409 - val_accuracy: 0.4531\n",
      "Model took 320.9129 seconds to run!\n"
     ]
    }
   ],
   "source": [
    "num_epochs = 200\n",
    "\n",
    "tic = time.perf_counter()\n",
    "myCNNHistory=myCNNModel.fit(x_traincnn, y_train, batch_size=16, epochs=num_epochs, validation_data=(x_testcnn, y_test))\n",
    "toc = time.perf_counter()\n",
    "print(f\"Model took {toc - tic:0.4f} seconds to run!\")"
   ]
  },
  {
   "cell_type": "code",
   "execution_count": 117,
   "metadata": {},
   "outputs": [
    {
     "data": {
      "image/png": "[encoded data removed]",
      "text/plain": [
       "<Figure size 432x288 with 1 Axes>"
      ]
     },
     "metadata": {
      "needs_background": "light"
     },
     "output_type": "display_data"
    }
   ],
   "source": [
    "plt.plot(myCNNHistory.history['loss'])\n",
    "plt.plot(myCNNHistory.history['val_loss'])\n",
    "plt.title('model loss')\n",
    "plt.ylabel('loss')\n",
    "plt.xlabel('epoch')\n",
    "plt.legend(['train', 'test'], loc='upper left')\n",
    "plt.show()"
   ]
  },
  {
   "cell_type": "code",
   "execution_count": 118,
   "metadata": {},
   "outputs": [
    {
     "data": {
      "image/png": "[encoded data removed]",
      "text/plain": [
       "<Figure size 432x288 with 1 Axes>"
      ]
     },
     "metadata": {
      "needs_background": "light"
     },
     "output_type": "display_data"
    }
   ],
   "source": [
    "plt.plot(myCNNHistory.history['accuracy'])\n",
    "plt.plot(myCNNHistory.history['val_accuracy'])\n",
    "plt.title('model accuracy')\n",
    "plt.ylabel('val_accuracy')\n",
    "plt.xlabel('epoch')\n",
    "plt.legend(['train', 'test'], loc='upper left')\n",
    "plt.show()"
   ]
  },
  {
   "cell_type": "code",
   "execution_count": 119,
   "metadata": {},
   "outputs": [
    {
     "name": "stdout",
     "output_type": "stream",
     "text": [
      "24/24 [==============================] - 0s 16ms/step\n",
      "6/6 [==============================] - 0s 16ms/step\n"
     ]
    }
   ],
   "source": [
    "y_train_predict_myCNNModel = myCNNModel.predict(x_traincnn)\n",
    "y_test_predict_myCNNModel = myCNNModel.predict(x_testcnn)"
   ]
  },
  {
   "cell_type": "code",
   "execution_count": 120,
   "metadata": {},
   "outputs": [
    {
     "name": "stdout",
     "output_type": "stream",
     "text": [
      "[[59  6  1  5  4  0  0  1  1  0]\n",
      " [ 0 66  0  0 15  0  1  0  0  0]\n",
      " [ 1  7 46  6 17  0  0  0  0  0]\n",
      " [ 0  6  2 63  6  0  0  0  0  0]\n",
      " [ 0 12  0  3 62  0  0  0  0  0]\n",
      " [ 0  0  0  0  1 63  2  0  2  1]\n",
      " [ 0  1  0  0  0  0 77  0  0  1]\n",
      " [ 1  0  0  0  3  0  1 71  0  2]\n",
      " [ 0  1  0  0  1  0  5  1 64  1]\n",
      " [ 0  2  0  0  1  0  6  0  0 70]]\n",
      "              precision    recall  f1-score   support\n",
      "\n",
      "           0       0.97      0.77      0.86        77\n",
      "           1       0.65      0.80      0.72        82\n",
      "           2       0.94      0.60      0.73        77\n",
      "           3       0.82      0.82      0.82        77\n",
      "           4       0.56      0.81      0.66        77\n",
      "           5       1.00      0.91      0.95        69\n",
      "           6       0.84      0.97      0.90        79\n",
      "           7       0.97      0.91      0.94        78\n",
      "           8       0.96      0.88      0.91        73\n",
      "           9       0.93      0.89      0.91        79\n",
      "\n",
      "    accuracy                           0.83       768\n",
      "   macro avg       0.86      0.84      0.84       768\n",
      "weighted avg       0.86      0.83      0.84       768\n",
      "\n"
     ]
    }
   ],
   "source": [
    "print(cm(y_train.argmax(axis=1),y_train_predict_myCNNModel.argmax(axis=1)))\n",
    "print( cr(y_train.argmax(axis=1),y_train_predict_myCNNModel.argmax(axis=1)))"
   ]
  },
  {
   "cell_type": "code",
   "execution_count": 121,
   "metadata": {},
   "outputs": [
    {
     "name": "stdout",
     "output_type": "stream",
     "text": [
      "[[ 8  3  0  1  4  1  0  2  0  0]\n",
      " [ 0 10  1  1  2  0  0  0  0  0]\n",
      " [ 3  1  5  5  5  0  0  0  0  0]\n",
      " [ 1  4  0  9  4  1  0  0  0  0]\n",
      " [ 0  7  0  2 10  0  0  0  0  0]\n",
      " [ 2  0  0  0  0 15  2  1  3  4]\n",
      " [ 0  0  0  0  0  0 16  0  0  1]\n",
      " [ 0  1  1  0  1  1  3  6  2  3]\n",
      " [ 1  1  0  2  3  4  4  1  4  3]\n",
      " [ 1  2  0  3  1  0  3  2  1  4]]\n",
      "              precision    recall  f1-score   support\n",
      "\n",
      "           0       0.50      0.42      0.46        19\n",
      "           1       0.34      0.71      0.47        14\n",
      "           2       0.71      0.26      0.38        19\n",
      "           3       0.39      0.47      0.43        19\n",
      "           4       0.33      0.53      0.41        19\n",
      "           5       0.68      0.56      0.61        27\n",
      "           6       0.57      0.94      0.71        17\n",
      "           7       0.50      0.33      0.40        18\n",
      "           8       0.40      0.17      0.24        23\n",
      "           9       0.27      0.24      0.25        17\n",
      "\n",
      "    accuracy                           0.45       192\n",
      "   macro avg       0.47      0.46      0.44       192\n",
      "weighted avg       0.48      0.45      0.44       192\n",
      "\n"
     ]
    }
   ],
   "source": [
    "print(cm(y_test.argmax(axis=1),y_test_predict_myCNNModel.argmax(axis=1)))\n",
    "print( cr(y_test.argmax(axis=1),y_test_predict_myCNNModel.argmax(axis=1)))"
   ]
  },
  {
   "cell_type": "markdown",
   "metadata": {},
   "source": [
    "# My MLP Model\n",
    "\n",
    "## Keep as competitor model\n",
    "\n",
    "### Why this model is better:\n",
    "\n",
    "1) Outperforms `baseline` model on both the **Training** set (increased **Capacity**) and the **Validation** test dataset.\n",
    "\n",
    "2) It has 1 - (186,634/445,578) ~ **58.11%** fewer model parameters (**Complexity** has been reduced). Thereby it runs faster too (less **computations**).\n",
    "\n",
    "3) Our model uses **parameter regulation** through $l_2$-*norm* (on both input/output MLPs) to prevent *overfitting*.\n",
    "\n",
    "4) Our model uses **early stopping** [1/2 the epochs!] to prevent *overfitting*.\n"
   ]
  },
  {
   "cell_type": "code",
   "execution_count": 122,
   "metadata": {},
   "outputs": [
    {
     "name": "stdout",
     "output_type": "stream",
     "text": [
      "Model: \"model_6\"\n",
      "_________________________________________________________________\n",
      " Layer (type)                Output Shape              Param #   \n",
      "=================================================================\n",
      " input_7 (InputLayer)        [(None, 216, 1)]          0         \n",
      "                                                                 \n",
      " dense_12 (Dense)            (None, 216, 128)          256       \n",
      "                                                                 \n",
      " conv1d_51 (Conv1D)          (None, 211, 128)          98432     \n",
      "                                                                 \n",
      " max_pooling1d_19 (MaxPoolin  (None, 105, 128)         0         \n",
      " g1D)                                                            \n",
      "                                                                 \n",
      " dropout_22 (Dropout)        (None, 105, 128)          0         \n",
      "                                                                 \n",
      " conv1d_52 (Conv1D)          (None, 100, 64)           49216     \n",
      "                                                                 \n",
      " max_pooling1d_20 (MaxPoolin  (None, 50, 64)           0         \n",
      " g1D)                                                            \n",
      "                                                                 \n",
      " dropout_23 (Dropout)        (None, 50, 64)            0         \n",
      "                                                                 \n",
      " conv1d_53 (Conv1D)          (None, 45, 64)            24640     \n",
      "                                                                 \n",
      " max_pooling1d_21 (MaxPoolin  (None, 22, 64)           0         \n",
      " g1D)                                                            \n",
      "                                                                 \n",
      " dropout_24 (Dropout)        (None, 22, 64)            0         \n",
      "                                                                 \n",
      " flatten_6 (Flatten)         (None, 1408)              0         \n",
      "                                                                 \n",
      " dense_13 (Dense)            (None, 10)                14090     \n",
      "                                                                 \n",
      "=================================================================\n",
      "Total params: 186,634\n",
      "Trainable params: 186,634\n",
      "Non-trainable params: 0\n",
      "_________________________________________________________________\n"
     ]
    }
   ],
   "source": [
    "def mlp_model():\n",
    "    inputs = keras.Input(shape=(216,1))\n",
    "    x = layers.Dense(128,\n",
    "                     kernel_regularizer=regularizers.l2(0.01),\n",
    "                     bias_regularizer=regularizers.l2(0.01),\n",
    "                     activation='softmax')(inputs)\n",
    "    x = layers.Conv1D(128, 6, activation=\"relu\")(x)\n",
    "    x = layers.MaxPooling1D(2)(x)\n",
    "    x = layers.Dropout(0.2)(x)\n",
    "    x = layers.Conv1D(64, 6, activation=\"relu\")(x)\n",
    "    x = layers.MaxPooling1D(2)(x)\n",
    "    x = layers.Dropout(0.2)(x)\n",
    "    x = layers.Conv1D(64, 6, activation=\"relu\")(x)\n",
    "    x = layers.MaxPooling1D(2)(x)\n",
    "    x = layers.Dropout(0.2)(x)\n",
    "    x = layers.Flatten()(x)\n",
    "    outputs = layers.Dense(num_classes,\n",
    "                           kernel_regularizer=regularizers.l2(0.01),\n",
    "                           bias_regularizer=regularizers.l2(0.01),\n",
    "                           activation=\"softmax\")(x)\n",
    "    model = keras.Model(inputs, outputs)\n",
    "    return model\n",
    "\n",
    "myMLPModel = mlp_model()\n",
    "\n",
    "myMLPModel.compile(optimizer=\"rmsprop\",\n",
    "                   loss=\"categorical_crossentropy\",\n",
    "                   metrics=[\"accuracy\"])\n",
    "\n",
    "myMLPModel.summary()"
   ]
  },
  {
   "cell_type": "code",
   "execution_count": 123,
   "metadata": {
    "scrolled": true
   },
   "outputs": [
    {
     "name": "stdout",
     "output_type": "stream",
     "text": [
      "Epoch 1/100\n",
      "48/48 [==============================] - 3s 58ms/step - loss: 2.4040 - accuracy: 0.0859 - val_loss: 2.3415 - val_accuracy: 0.0729\n",
      "Epoch 2/100\n",
      "48/48 [==============================] - 2s 48ms/step - loss: 2.1782 - accuracy: 0.1901 - val_loss: 2.0053 - val_accuracy: 0.2552\n",
      "Epoch 3/100\n",
      "48/48 [==============================] - 2s 44ms/step - loss: 1.8882 - accuracy: 0.2799 - val_loss: 1.8011 - val_accuracy: 0.3125\n",
      "Epoch 4/100\n",
      "48/48 [==============================] - 2s 45ms/step - loss: 1.8193 - accuracy: 0.2917 - val_loss: 1.7810 - val_accuracy: 0.2917\n",
      "Epoch 5/100\n",
      "48/48 [==============================] - 2s 42ms/step - loss: 1.7732 - accuracy: 0.3268 - val_loss: 1.7758 - val_accuracy: 0.3594\n",
      "Epoch 6/100\n",
      "48/48 [==============================] - 2s 43ms/step - loss: 1.7389 - accuracy: 0.3490 - val_loss: 1.7279 - val_accuracy: 0.3438\n",
      "Epoch 7/100\n",
      "48/48 [==============================] - 2s 43ms/step - loss: 1.7098 - accuracy: 0.3646 - val_loss: 1.7067 - val_accuracy: 0.3750\n",
      "Epoch 8/100\n",
      "48/48 [==============================] - 2s 45ms/step - loss: 1.6837 - accuracy: 0.3932 - val_loss: 1.7205 - val_accuracy: 0.3490\n",
      "Epoch 9/100\n",
      "48/48 [==============================] - 2s 42ms/step - loss: 1.6577 - accuracy: 0.4076 - val_loss: 1.6993 - val_accuracy: 0.3438\n",
      "Epoch 10/100\n",
      "48/48 [==============================] - 2s 43ms/step - loss: 1.6344 - accuracy: 0.4089 - val_loss: 1.7365 - val_accuracy: 0.3490\n",
      "Epoch 11/100\n",
      "48/48 [==============================] - 2s 48ms/step - loss: 1.5987 - accuracy: 0.4167 - val_loss: 1.6621 - val_accuracy: 0.3854\n",
      "Epoch 12/100\n",
      "48/48 [==============================] - 2s 49ms/step - loss: 1.5859 - accuracy: 0.4206 - val_loss: 1.7345 - val_accuracy: 0.3490\n",
      "Epoch 13/100\n",
      "48/48 [==============================] - 3s 54ms/step - loss: 1.5521 - accuracy: 0.4219 - val_loss: 1.6784 - val_accuracy: 0.3906\n",
      "Epoch 14/100\n",
      "48/48 [==============================] - 2s 50ms/step - loss: 1.5608 - accuracy: 0.4284 - val_loss: 1.6377 - val_accuracy: 0.4271\n",
      "Epoch 15/100\n",
      "48/48 [==============================] - 2s 48ms/step - loss: 1.5315 - accuracy: 0.4505 - val_loss: 1.6669 - val_accuracy: 0.3802\n",
      "Epoch 16/100\n",
      "48/48 [==============================] - 2s 50ms/step - loss: 1.5058 - accuracy: 0.4518 - val_loss: 1.7346 - val_accuracy: 0.3802\n",
      "Epoch 17/100\n",
      "48/48 [==============================] - 3s 53ms/step - loss: 1.4848 - accuracy: 0.4661 - val_loss: 1.8080 - val_accuracy: 0.3177\n",
      "Epoch 18/100\n",
      "48/48 [==============================] - 2s 49ms/step - loss: 1.4834 - accuracy: 0.4805 - val_loss: 1.6883 - val_accuracy: 0.3802\n",
      "Epoch 19/100\n",
      "48/48 [==============================] - 3s 55ms/step - loss: 1.4681 - accuracy: 0.4831 - val_loss: 1.6549 - val_accuracy: 0.3958\n",
      "Epoch 20/100\n",
      "48/48 [==============================] - 2s 51ms/step - loss: 1.4692 - accuracy: 0.4961 - val_loss: 1.6567 - val_accuracy: 0.3646\n",
      "Epoch 21/100\n",
      "48/48 [==============================] - 2s 51ms/step - loss: 1.4522 - accuracy: 0.4818 - val_loss: 1.7123 - val_accuracy: 0.3854\n",
      "Epoch 22/100\n",
      "48/48 [==============================] - 2s 51ms/step - loss: 1.4439 - accuracy: 0.4961 - val_loss: 1.6708 - val_accuracy: 0.3698\n",
      "Epoch 23/100\n",
      "48/48 [==============================] - 3s 54ms/step - loss: 1.4210 - accuracy: 0.5208 - val_loss: 1.6663 - val_accuracy: 0.4115\n",
      "Epoch 24/100\n",
      "48/48 [==============================] - 2s 52ms/step - loss: 1.3990 - accuracy: 0.5221 - val_loss: 1.7740 - val_accuracy: 0.3698\n",
      "Epoch 25/100\n",
      "48/48 [==============================] - 3s 54ms/step - loss: 1.3749 - accuracy: 0.5312 - val_loss: 1.6681 - val_accuracy: 0.3906\n",
      "Epoch 26/100\n",
      "48/48 [==============================] - 3s 56ms/step - loss: 1.3842 - accuracy: 0.5286 - val_loss: 1.6807 - val_accuracy: 0.3854\n",
      "Epoch 27/100\n",
      "48/48 [==============================] - 2s 52ms/step - loss: 1.3659 - accuracy: 0.5430 - val_loss: 1.7164 - val_accuracy: 0.3750\n",
      "Epoch 28/100\n",
      "48/48 [==============================] - 3s 55ms/step - loss: 1.3297 - accuracy: 0.5612 - val_loss: 1.6341 - val_accuracy: 0.4062\n",
      "Epoch 29/100\n",
      "48/48 [==============================] - 2s 51ms/step - loss: 1.3489 - accuracy: 0.5612 - val_loss: 1.7276 - val_accuracy: 0.4115\n",
      "Epoch 30/100\n",
      "48/48 [==============================] - 2s 52ms/step - loss: 1.3047 - accuracy: 0.5573 - val_loss: 1.6420 - val_accuracy: 0.4479\n",
      "Epoch 31/100\n",
      "48/48 [==============================] - 3s 53ms/step - loss: 1.2891 - accuracy: 0.5781 - val_loss: 1.6761 - val_accuracy: 0.4427\n",
      "Epoch 32/100\n",
      "48/48 [==============================] - 3s 53ms/step - loss: 1.2621 - accuracy: 0.5820 - val_loss: 1.6530 - val_accuracy: 0.4271\n",
      "Epoch 33/100\n",
      "48/48 [==============================] - 3s 53ms/step - loss: 1.3039 - accuracy: 0.5716 - val_loss: 1.6595 - val_accuracy: 0.4271\n",
      "Epoch 34/100\n",
      "48/48 [==============================] - 3s 58ms/step - loss: 1.2325 - accuracy: 0.5977 - val_loss: 1.8444 - val_accuracy: 0.3958\n",
      "Epoch 35/100\n",
      "48/48 [==============================] - 2s 52ms/step - loss: 1.2101 - accuracy: 0.6042 - val_loss: 1.7284 - val_accuracy: 0.4375\n",
      "Epoch 36/100\n",
      "48/48 [==============================] - 3s 57ms/step - loss: 1.2417 - accuracy: 0.5990 - val_loss: 1.7345 - val_accuracy: 0.4531\n",
      "Epoch 37/100\n",
      "48/48 [==============================] - 3s 53ms/step - loss: 1.2306 - accuracy: 0.6068 - val_loss: 1.6879 - val_accuracy: 0.4427\n",
      "Epoch 38/100\n",
      "48/48 [==============================] - 2s 49ms/step - loss: 1.2031 - accuracy: 0.6224 - val_loss: 1.7289 - val_accuracy: 0.4479\n",
      "Epoch 39/100\n",
      "48/48 [==============================] - 2s 51ms/step - loss: 1.1685 - accuracy: 0.6263 - val_loss: 1.9437 - val_accuracy: 0.3698\n",
      "Epoch 40/100\n",
      "48/48 [==============================] - 2s 48ms/step - loss: 1.1317 - accuracy: 0.6589 - val_loss: 1.7940 - val_accuracy: 0.4271\n",
      "Epoch 41/100\n",
      "48/48 [==============================] - 2s 52ms/step - loss: 1.1568 - accuracy: 0.6354 - val_loss: 1.7160 - val_accuracy: 0.4792\n",
      "Epoch 42/100\n",
      "48/48 [==============================] - 2s 49ms/step - loss: 1.1432 - accuracy: 0.6654 - val_loss: 1.8550 - val_accuracy: 0.4219\n",
      "Epoch 43/100\n",
      "48/48 [==============================] - 2s 43ms/step - loss: 1.0999 - accuracy: 0.6758 - val_loss: 1.8707 - val_accuracy: 0.4531\n",
      "Epoch 44/100\n",
      "48/48 [==============================] - 2s 47ms/step - loss: 1.0868 - accuracy: 0.6992 - val_loss: 1.8130 - val_accuracy: 0.4375\n",
      "Epoch 45/100\n",
      "48/48 [==============================] - 2s 48ms/step - loss: 1.0893 - accuracy: 0.6862 - val_loss: 1.8787 - val_accuracy: 0.4167\n",
      "Epoch 46/100\n",
      "48/48 [==============================] - 2s 46ms/step - loss: 1.0059 - accuracy: 0.7266 - val_loss: 1.8983 - val_accuracy: 0.4375\n",
      "Epoch 47/100\n",
      "48/48 [==============================] - 2s 48ms/step - loss: 1.0267 - accuracy: 0.7083 - val_loss: 1.9305 - val_accuracy: 0.4479\n",
      "Epoch 48/100\n",
      "48/48 [==============================] - 2s 50ms/step - loss: 1.0342 - accuracy: 0.7005 - val_loss: 1.9525 - val_accuracy: 0.4531\n",
      "Epoch 49/100\n",
      "48/48 [==============================] - 2s 47ms/step - loss: 0.9987 - accuracy: 0.7096 - val_loss: 1.9464 - val_accuracy: 0.4375\n",
      "Epoch 50/100\n",
      "48/48 [==============================] - 2s 49ms/step - loss: 0.9769 - accuracy: 0.7435 - val_loss: 1.9751 - val_accuracy: 0.4062\n",
      "Epoch 51/100\n",
      "48/48 [==============================] - 2s 47ms/step - loss: 0.9904 - accuracy: 0.7018 - val_loss: 1.9310 - val_accuracy: 0.4479\n",
      "Epoch 52/100\n",
      "48/48 [==============================] - 2s 49ms/step - loss: 0.9823 - accuracy: 0.7305 - val_loss: 1.9762 - val_accuracy: 0.4635\n",
      "Epoch 53/100\n",
      "48/48 [==============================] - 2s 47ms/step - loss: 0.9595 - accuracy: 0.7461 - val_loss: 1.9924 - val_accuracy: 0.4427\n",
      "Epoch 54/100\n",
      "48/48 [==============================] - 2s 50ms/step - loss: 0.9450 - accuracy: 0.7331 - val_loss: 2.0114 - val_accuracy: 0.4167\n",
      "Epoch 55/100\n",
      "48/48 [==============================] - 2s 50ms/step - loss: 0.9523 - accuracy: 0.7461 - val_loss: 2.1368 - val_accuracy: 0.4115\n",
      "Epoch 56/100\n",
      "48/48 [==============================] - 3s 55ms/step - loss: 0.9537 - accuracy: 0.7344 - val_loss: 2.0562 - val_accuracy: 0.4479\n",
      "Epoch 57/100\n",
      "48/48 [==============================] - 3s 54ms/step - loss: 0.9272 - accuracy: 0.7331 - val_loss: 2.1741 - val_accuracy: 0.4427\n",
      "Epoch 58/100\n",
      "48/48 [==============================] - 2s 47ms/step - loss: 0.9054 - accuracy: 0.7747 - val_loss: 2.0124 - val_accuracy: 0.4375\n",
      "Epoch 59/100\n",
      "48/48 [==============================] - 2s 47ms/step - loss: 0.8901 - accuracy: 0.7617 - val_loss: 2.0769 - val_accuracy: 0.4479\n",
      "Epoch 60/100\n",
      "48/48 [==============================] - 2s 45ms/step - loss: 0.9279 - accuracy: 0.7526 - val_loss: 2.1880 - val_accuracy: 0.4375\n",
      "Epoch 61/100\n",
      "48/48 [==============================] - 2s 49ms/step - loss: 0.8633 - accuracy: 0.7721 - val_loss: 2.2217 - val_accuracy: 0.4531\n",
      "Epoch 62/100\n",
      "48/48 [==============================] - 2s 47ms/step - loss: 0.8593 - accuracy: 0.7839 - val_loss: 2.2845 - val_accuracy: 0.4062\n",
      "Epoch 63/100\n",
      "48/48 [==============================] - 2s 47ms/step - loss: 0.8563 - accuracy: 0.7956 - val_loss: 2.1790 - val_accuracy: 0.4323\n",
      "Epoch 64/100\n",
      "48/48 [==============================] - 2s 47ms/step - loss: 0.8716 - accuracy: 0.7799 - val_loss: 2.2966 - val_accuracy: 0.4479\n",
      "Epoch 65/100\n",
      "48/48 [==============================] - 2s 50ms/step - loss: 0.9050 - accuracy: 0.7695 - val_loss: 2.0557 - val_accuracy: 0.4740\n",
      "Epoch 66/100\n",
      "48/48 [==============================] - 2s 42ms/step - loss: 0.8757 - accuracy: 0.7786 - val_loss: 2.3641 - val_accuracy: 0.4010\n",
      "Epoch 67/100\n",
      "48/48 [==============================] - 2s 38ms/step - loss: 0.8563 - accuracy: 0.7943 - val_loss: 2.2159 - val_accuracy: 0.4219\n",
      "Epoch 68/100\n",
      "48/48 [==============================] - 2s 39ms/step - loss: 0.8299 - accuracy: 0.8138 - val_loss: 2.2251 - val_accuracy: 0.4375\n",
      "Epoch 69/100\n",
      "48/48 [==============================] - 2s 40ms/step - loss: 0.8092 - accuracy: 0.8138 - val_loss: 2.4426 - val_accuracy: 0.4531\n",
      "Epoch 70/100\n",
      "48/48 [==============================] - 2s 42ms/step - loss: 0.8095 - accuracy: 0.8177 - val_loss: 2.3706 - val_accuracy: 0.4583\n",
      "Epoch 71/100\n",
      "48/48 [==============================] - 2s 43ms/step - loss: 0.8002 - accuracy: 0.8125 - val_loss: 2.4101 - val_accuracy: 0.4271\n",
      "Epoch 72/100\n",
      "48/48 [==============================] - 2s 43ms/step - loss: 0.8094 - accuracy: 0.8099 - val_loss: 2.3123 - val_accuracy: 0.4531\n",
      "Epoch 73/100\n",
      "48/48 [==============================] - 2s 43ms/step - loss: 0.7996 - accuracy: 0.8151 - val_loss: 2.3226 - val_accuracy: 0.4479\n",
      "Epoch 74/100\n",
      "48/48 [==============================] - 2s 46ms/step - loss: 0.7765 - accuracy: 0.8216 - val_loss: 2.4204 - val_accuracy: 0.4479\n",
      "Epoch 75/100\n",
      "48/48 [==============================] - 2s 50ms/step - loss: 0.7773 - accuracy: 0.8216 - val_loss: 2.4101 - val_accuracy: 0.4844\n",
      "Epoch 76/100\n",
      "48/48 [==============================] - 2s 46ms/step - loss: 0.8076 - accuracy: 0.8112 - val_loss: 2.3165 - val_accuracy: 0.4167\n",
      "Epoch 77/100\n",
      "48/48 [==============================] - 2s 51ms/step - loss: 0.7958 - accuracy: 0.8138 - val_loss: 2.4620 - val_accuracy: 0.4688\n",
      "Epoch 78/100\n",
      "48/48 [==============================] - 2s 47ms/step - loss: 0.7627 - accuracy: 0.8411 - val_loss: 2.3509 - val_accuracy: 0.4479\n",
      "Epoch 79/100\n",
      "48/48 [==============================] - 2s 49ms/step - loss: 0.7541 - accuracy: 0.8229 - val_loss: 2.2969 - val_accuracy: 0.4219\n",
      "Epoch 80/100\n",
      "48/48 [==============================] - 2s 51ms/step - loss: 0.7489 - accuracy: 0.8438 - val_loss: 2.5382 - val_accuracy: 0.4219\n",
      "Epoch 81/100\n",
      "48/48 [==============================] - 2s 50ms/step - loss: 0.7612 - accuracy: 0.8281 - val_loss: 2.4748 - val_accuracy: 0.4583\n",
      "Epoch 82/100\n",
      "48/48 [==============================] - 3s 52ms/step - loss: 0.7423 - accuracy: 0.8464 - val_loss: 2.4850 - val_accuracy: 0.4792\n",
      "Epoch 83/100\n",
      "48/48 [==============================] - 3s 58ms/step - loss: 0.7513 - accuracy: 0.8333 - val_loss: 2.5520 - val_accuracy: 0.4167\n",
      "Epoch 84/100\n",
      "48/48 [==============================] - 3s 53ms/step - loss: 0.7472 - accuracy: 0.8307 - val_loss: 2.5699 - val_accuracy: 0.4062\n",
      "Epoch 85/100\n",
      "48/48 [==============================] - 2s 51ms/step - loss: 0.7396 - accuracy: 0.8333 - val_loss: 2.4395 - val_accuracy: 0.4583\n",
      "Epoch 86/100\n",
      "48/48 [==============================] - 3s 56ms/step - loss: 0.7537 - accuracy: 0.8372 - val_loss: 2.4346 - val_accuracy: 0.4531\n",
      "Epoch 87/100\n",
      "48/48 [==============================] - 3s 55ms/step - loss: 0.7374 - accuracy: 0.8464 - val_loss: 2.5020 - val_accuracy: 0.4271\n",
      "Epoch 88/100\n",
      "48/48 [==============================] - 3s 54ms/step - loss: 0.7073 - accuracy: 0.8477 - val_loss: 2.5558 - val_accuracy: 0.4479\n",
      "Epoch 89/100\n",
      "48/48 [==============================] - 2s 50ms/step - loss: 0.7220 - accuracy: 0.8516 - val_loss: 2.4217 - val_accuracy: 0.4479\n",
      "Epoch 90/100\n",
      "48/48 [==============================] - 2s 49ms/step - loss: 0.7190 - accuracy: 0.8398 - val_loss: 2.4982 - val_accuracy: 0.4375\n",
      "Epoch 91/100\n",
      "48/48 [==============================] - 3s 53ms/step - loss: 0.7011 - accuracy: 0.8620 - val_loss: 2.5069 - val_accuracy: 0.4323\n",
      "Epoch 92/100\n",
      "48/48 [==============================] - 3s 61ms/step - loss: 0.6878 - accuracy: 0.8555 - val_loss: 2.6423 - val_accuracy: 0.4427\n",
      "Epoch 93/100\n",
      "48/48 [==============================] - 3s 53ms/step - loss: 0.6674 - accuracy: 0.8763 - val_loss: 2.5241 - val_accuracy: 0.4427\n",
      "Epoch 94/100\n",
      "48/48 [==============================] - 2s 52ms/step - loss: 0.7035 - accuracy: 0.8477 - val_loss: 2.5510 - val_accuracy: 0.4427\n",
      "Epoch 95/100\n",
      "48/48 [==============================] - 2s 50ms/step - loss: 0.7069 - accuracy: 0.8698 - val_loss: 2.5161 - val_accuracy: 0.4531\n",
      "Epoch 96/100\n",
      "48/48 [==============================] - 2s 51ms/step - loss: 0.6853 - accuracy: 0.8620 - val_loss: 2.6799 - val_accuracy: 0.4375\n",
      "Epoch 97/100\n",
      "48/48 [==============================] - 2s 51ms/step - loss: 0.6667 - accuracy: 0.8711 - val_loss: 2.7257 - val_accuracy: 0.4323\n",
      "Epoch 98/100\n",
      "48/48 [==============================] - 2s 50ms/step - loss: 0.7142 - accuracy: 0.8607 - val_loss: 2.4633 - val_accuracy: 0.4479\n",
      "Epoch 99/100\n",
      "48/48 [==============================] - 2s 46ms/step - loss: 0.6544 - accuracy: 0.8763 - val_loss: 2.6733 - val_accuracy: 0.4427\n",
      "Epoch 100/100\n",
      "48/48 [==============================] - 2s 47ms/step - loss: 0.7194 - accuracy: 0.8464 - val_loss: 2.7305 - val_accuracy: 0.4062\n",
      "Model took 237.2986 seconds to run!\n"
     ]
    }
   ],
   "source": [
    "num_epochs = 100\n",
    "\n",
    "tic = time.perf_counter()\n",
    "myMLPHistory=myMLPModel.fit(x_traincnn, y_train, batch_size=16, epochs=num_epochs, validation_data=(x_testcnn, y_test))\n",
    "toc = time.perf_counter()\n",
    "print(f\"Model took {toc - tic:0.4f} seconds to run!\")"
   ]
  },
  {
   "cell_type": "code",
   "execution_count": 124,
   "metadata": {},
   "outputs": [
    {
     "data": {
      "image/png": "[encoded data removed]",
      "text/plain": [
       "<Figure size 432x288 with 1 Axes>"
      ]
     },
     "metadata": {
      "needs_background": "light"
     },
     "output_type": "display_data"
    }
   ],
   "source": [
    "plt.plot(myMLPHistory.history['loss'])\n",
    "plt.plot(myMLPHistory.history['val_loss'])\n",
    "plt.title('model loss')\n",
    "plt.ylabel('loss')\n",
    "plt.xlabel('epoch')\n",
    "plt.legend(['train', 'test'], loc='upper left')\n",
    "plt.show()"
   ]
  },
  {
   "cell_type": "code",
   "execution_count": 125,
   "metadata": {},
   "outputs": [
    {
     "data": {
      "image/png": "[encoded data removed]",
      "text/plain": [
       "<Figure size 432x288 with 1 Axes>"
      ]
     },
     "metadata": {
      "needs_background": "light"
     },
     "output_type": "display_data"
    }
   ],
   "source": [
    "plt.plot(myMLPHistory.history['accuracy'])\n",
    "plt.plot(myMLPHistory.history['val_accuracy'])\n",
    "plt.title('model loss')\n",
    "plt.ylabel('val_loss')\n",
    "plt.xlabel('epoch')\n",
    "plt.legend(['train', 'test'], loc='upper left')\n",
    "plt.show()"
   ]
  },
  {
   "cell_type": "code",
   "execution_count": 126,
   "metadata": {},
   "outputs": [
    {
     "name": "stdout",
     "output_type": "stream",
     "text": [
      "24/24 [==============================] - 1s 21ms/step\n",
      "6/6 [==============================] - 0s 24ms/step\n"
     ]
    }
   ],
   "source": [
    "y_train_predict_myMLPModel = myMLPModel.predict(x_traincnn)\n",
    "y_test_predict_myMLPModel = myMLPModel.predict(x_testcnn)"
   ]
  },
  {
   "cell_type": "code",
   "execution_count": 127,
   "metadata": {},
   "outputs": [
    {
     "name": "stdout",
     "output_type": "stream",
     "text": [
      "[[76  0  0  0  1  0  0  0  0  0]\n",
      " [ 0 82  0  0  0  0  0  0  0  0]\n",
      " [ 1  1 74  0  1  0  0  0  0  0]\n",
      " [ 0  4  1 70  2  0  0  0  0  0]\n",
      " [ 0  2  0  0 75  0  0  0  0  0]\n",
      " [ 2  0  0  0  0 67  0  0  0  0]\n",
      " [ 0  0  0  0  0  0 79  0  0  0]\n",
      " [ 0  1  0  0  0  1  0 73  2  1]\n",
      " [ 0  0  0  0  0  0  0  0 72  1]\n",
      " [ 0  0  0  0  0  0  0  0  0 79]]\n",
      "              precision    recall  f1-score   support\n",
      "\n",
      "           0       0.96      0.99      0.97        77\n",
      "           1       0.91      1.00      0.95        82\n",
      "           2       0.99      0.96      0.97        77\n",
      "           3       1.00      0.91      0.95        77\n",
      "           4       0.95      0.97      0.96        77\n",
      "           5       0.99      0.97      0.98        69\n",
      "           6       1.00      1.00      1.00        79\n",
      "           7       1.00      0.94      0.97        78\n",
      "           8       0.97      0.99      0.98        73\n",
      "           9       0.98      1.00      0.99        79\n",
      "\n",
      "    accuracy                           0.97       768\n",
      "   macro avg       0.97      0.97      0.97       768\n",
      "weighted avg       0.97      0.97      0.97       768\n",
      "\n"
     ]
    }
   ],
   "source": [
    "print(cm(y_train.argmax(axis=1),y_train_predict_myMLPModel.argmax(axis=1)))\n",
    "print( cr(y_train.argmax(axis=1),y_train_predict_myMLPModel.argmax(axis=1)))"
   ]
  },
  {
   "cell_type": "code",
   "execution_count": 128,
   "metadata": {},
   "outputs": [
    {
     "name": "stdout",
     "output_type": "stream",
     "text": [
      "[[ 9  3  0  1  4  0  1  0  1  0]\n",
      " [ 0 11  1  0  2  0  0  0  0  0]\n",
      " [ 4  0  9  4  2  0  0  0  0  0]\n",
      " [ 4  2  1 10  2  0  0  0  0  0]\n",
      " [ 1 11  0  0  7  0  0  0  0  0]\n",
      " [ 6  0  0  0  0  9  2  1  6  3]\n",
      " [ 0  0  0  0  0  2  8  0  2  5]\n",
      " [ 1  0  0  1  0  2  2  2  5  5]\n",
      " [ 3  1  0  0  0  3  0  2  9  5]\n",
      " [ 2  2  0  0  0  0  2  3  4  4]]\n",
      "              precision    recall  f1-score   support\n",
      "\n",
      "           0       0.30      0.47      0.37        19\n",
      "           1       0.37      0.79      0.50        14\n",
      "           2       0.82      0.47      0.60        19\n",
      "           3       0.62      0.53      0.57        19\n",
      "           4       0.41      0.37      0.39        19\n",
      "           5       0.56      0.33      0.42        27\n",
      "           6       0.53      0.47      0.50        17\n",
      "           7       0.25      0.11      0.15        18\n",
      "           8       0.33      0.39      0.36        23\n",
      "           9       0.18      0.24      0.21        17\n",
      "\n",
      "    accuracy                           0.41       192\n",
      "   macro avg       0.44      0.42      0.41       192\n",
      "weighted avg       0.45      0.41      0.41       192\n",
      "\n"
     ]
    }
   ],
   "source": [
    "print(cm(y_test.argmax(axis=1),y_test_predict_myMLPModel.argmax(axis=1)))\n",
    "print( cr(y_test.argmax(axis=1),y_test_predict_myMLPModel.argmax(axis=1)))"
   ]
  },
  {
   "cell_type": "code",
   "execution_count": null,
   "metadata": {},
   "outputs": [],
   "source": []
  }
 ],
 "metadata": {
  "kernelspec": {
   "display_name": "Python 3 (ipykernel)",
   "language": "python",
   "name": "python3"
  },
  "language_info": {
   "codemirror_mode": {
    "name": "ipython",
    "version": 3
   },
   "file_extension": ".py",
   "mimetype": "text/x-python",
   "name": "python",
   "nbconvert_exporter": "python",
   "pygments_lexer": "ipython3",
   "version": "3.11.5"
  }
 },
 "nbformat": 4,
 "nbformat_minor": 2
}
